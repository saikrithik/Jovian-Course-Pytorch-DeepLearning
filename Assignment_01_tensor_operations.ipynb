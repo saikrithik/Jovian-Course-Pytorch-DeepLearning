{
  "nbformat": 4,
  "nbformat_minor": 0,
  "metadata": {
    "colab": {
      "name": "01-tensor-operations.ipynb",
      "provenance": [],
      "collapsed_sections": [],
      "include_colab_link": true
    },
    "kernelspec": {
      "display_name": "Python 3",
      "language": "python",
      "name": "python3"
    },
    "language_info": {
      "codemirror_mode": {
        "name": "ipython",
        "version": 3
      },
      "file_extension": ".py",
      "mimetype": "text/x-python",
      "name": "python",
      "nbconvert_exporter": "python",
      "pygments_lexer": "ipython3",
      "version": "3.8.5"
    }
  },
  "cells": [
    {
      "cell_type": "markdown",
      "metadata": {
        "id": "view-in-github",
        "colab_type": "text"
      },
      "source": [
        "<a href=\"https://colab.research.google.com/github/saikrithik/Jovian-Course-Pytorch-DeepLearning/blob/main/Assignment_01_tensor_operations.ipynb\" target=\"_parent\"><img src=\"https://colab.research.google.com/assets/colab-badge.svg\" alt=\"Open In Colab\"/></a>"
      ]
    },
    {
      "cell_type": "code",
      "metadata": {
        "id": "ZdQo2DQNoxXd"
      },
      "source": [
        "# Jovian Commit Essentials\n",
        "# Please retain and execute this cell without modifying the contents for `jovian.commit` to work\n",
        "!pip install jovian --upgrade -q\n",
        "import jovian\n",
        "jovian.utils.colab.set_colab_file_id('16QSkA6tQfI3laL83A6ulA-QRFKupVOum')"
      ],
      "execution_count": null,
      "outputs": []
    },
    {
      "cell_type": "markdown",
      "metadata": {
        "id": "vKmtYq5RW1PD"
      },
      "source": [
        "> ### Assignment Instructions (delete this cell before submission)\n",
        "> \n",
        "> The objective of this assignment is to develop a solid understanding of PyTorch tensors. In this assignment you will:\n",
        ">\n",
        "> 1. Pick 5 interesting functions related to PyTorch tensors by [reading the documentation](https://pytorch.org/docs/stable/torch.html), \n",
        "> 2. Edit this starter template notebook to illustrate their usage and publish your notebook to Jovian using `jovian.commit`. Make sure to add proper explanations too, not just code.\n",
        "> 3. Submit the link to your published notebook on Jovian here: https://jovian.ai/learn/deep-learning-with-pytorch-zero-to-gans/assignment/assignment-1-all-about-torch-tensor .\n",
        "> 4. (Optional) Write a blog post on [Medium](https://medium.com) to accompany and showcase your Jupyter notebook. [Embed cells from your notebook](https://medium.com/@aakashns/share-and-embed-jupyter-notebooks-online-with-jovian-ml-df709a03064e) wherever necessary.\n",
        "> 5. (Optional) [Share your work](https://jovian.ai/forum/t/pytorch-functions-and-tensor-operations/13790) with the community and exchange feedback with other participants\n",
        ">\n",
        ">\n",
        "> The recommended way to run this notebook is to click the \"Run\" button at the top of this page, and select \"Run on Colab\". Run `jovian.commit` regularly to save your progress.\n",
        "> \n",
        "> Try to give your notebook an interesting title e.g. \"All about PyTorch tensor operations\", \"5 PyTorch functions you didn't know you needed\", \"A beginner's guide to Autograd in PyToch\", \"Interesting ways to create PyTorch tensors\", \"Trigonometic functions in PyTorch\", \"How to use PyTorch tensors for Linear Algebra\" etc.\n",
        ">\n",
        "> **IMPORTANT NOTE**: Make sure to submit a Jovian notebook link e.g. https://jovian.ai/aakashns/01-tensor-operations . Colab links will not be accepted.\n",
        ">\n",
        "> Remove this cell containing instructions before making a submission or sharing your notebook, to make it more presentable.\n",
        ">\n",
        "\n"
      ]
    },
    {
      "cell_type": "markdown",
      "metadata": {
        "id": "5GgPjXqVW1PD"
      },
      "source": [
        "# Important function we should know before starting with machine learning with pytorch\n",
        "Here are some function examples which we will be using in deep learning with pytorch course.\n",
        "\n",
        "- torch.narrow\n",
        "- torch.randn\n",
        "- torch.reciprocal\n",
        "- torch.sigmoid\n",
        "- torch.tanh\n",
        "\n",
        "Before we begin, let's install and import PyTorch"
      ]
    },
    {
      "cell_type": "code",
      "metadata": {
        "id": "cIoFn5S9W1PD"
      },
      "source": [
        "# Uncomment and run the appropriate command for your operating system, if required\n",
        "\n",
        "# Linux / Binder\n",
        "# !pip install numpy torch==1.7.0+cpu torchvision==0.8.1+cpu torchaudio==0.7.0 -f https://download.pytorch.org/whl/torch_stable.html\n",
        "\n",
        "# Windows\n",
        "# !pip install numpy torch==1.7.0+cpu torchvision==0.8.1+cpu torchaudio==0.7.0 -f https://download.pytorch.org/whl/torch_stable.html\n",
        "\n",
        "# MacOS\n",
        "# !pip install numpy torch torchvision torchaudio"
      ],
      "execution_count": null,
      "outputs": []
    },
    {
      "cell_type": "code",
      "metadata": {
        "id": "LyntfesPW1PE"
      },
      "source": [
        "# Import torch and other required modules\n",
        "import torch"
      ],
      "execution_count": null,
      "outputs": []
    },
    {
      "cell_type": "markdown",
      "metadata": {
        "id": "ODg_Jhr6W1PE"
      },
      "source": [
        "## Function 1 - torch.narrow(input, dim, start, length) → Tensor\n",
        "\n",
        "Returns a new tensor that is a narrowed version of input tensor. The dimension dim is input from start to start + length. The returned tensor and input tensor share the same underlying storage.\n",
        "\n",
        "### Parameters\n",
        "\n",
        "- input (Tensor) – the tensor to narrow\n",
        "\n",
        "- dim (int) – the dimension along which to narrow\n",
        "\n",
        "- start (int) – the starting dimension\n",
        "\n",
        "- length (int) – the distance to the ending dimension"
      ]
    },
    {
      "cell_type": "code",
      "metadata": {
        "colab": {
          "base_uri": "https://localhost:8080/"
        },
        "id": "0miYgaa7W1PE",
        "outputId": "29d49ef1-159d-45a3-daf7-ae272ae21126"
      },
      "source": [
        "# Example 1 - working \n",
        "x = torch.tensor([[1, 2, 3], [4, 5, 6], [7, 8, 9]])\n",
        "torch.narrow(x, 0, 1, 2)"
      ],
      "execution_count": null,
      "outputs": [
        {
          "output_type": "execute_result",
          "data": {
            "text/plain": [
              "tensor([[4, 5, 6],\n",
              "        [7, 8, 9]])"
            ]
          },
          "metadata": {
            "tags": []
          },
          "execution_count": 13
        }
      ]
    },
    {
      "cell_type": "markdown",
      "metadata": {
        "id": "uRh56e6sW1PG"
      },
      "source": [
        "In above example we used narrow function to narrow down the given tensor with 0x1x2 dimension"
      ]
    },
    {
      "cell_type": "code",
      "metadata": {
        "colab": {
          "base_uri": "https://localhost:8080/"
        },
        "id": "R3qO5_14W1PH",
        "outputId": "9ba8604c-1a66-4e67-c999-a2fd776eecfa"
      },
      "source": [
        "# Example 2 - working\n",
        "torch.narrow(x, 1, 1, 2)"
      ],
      "execution_count": null,
      "outputs": [
        {
          "output_type": "execute_result",
          "data": {
            "text/plain": [
              "tensor([[2, 3],\n",
              "        [5, 6],\n",
              "        [8, 9]])"
            ]
          },
          "metadata": {
            "tags": []
          },
          "execution_count": 14
        }
      ]
    },
    {
      "cell_type": "markdown",
      "metadata": {
        "id": "tg8q9ohOW1PH"
      },
      "source": [
        "Another example where we are narrowing the tensor in to 1x1x2 dimension"
      ]
    },
    {
      "cell_type": "code",
      "metadata": {
        "colab": {
          "base_uri": "https://localhost:8080/",
          "height": 182
        },
        "id": "ctJOiVyeW1PH",
        "outputId": "3f7b8c9c-8311-4a3c-97a8-397117e7aaf3"
      },
      "source": [
        "# Example 3 - breaking (to illustrate when it breaks)\n",
        "torch.narrow(x, 2, 1, 2)"
      ],
      "execution_count": null,
      "outputs": [
        {
          "output_type": "error",
          "ename": "IndexError",
          "evalue": "ignored",
          "traceback": [
            "\u001b[0;31m---------------------------------------------------------------------------\u001b[0m",
            "\u001b[0;31mIndexError\u001b[0m                                Traceback (most recent call last)",
            "\u001b[0;32m<ipython-input-15-cc7d21b04040>\u001b[0m in \u001b[0;36m<module>\u001b[0;34m()\u001b[0m\n\u001b[1;32m      1\u001b[0m \u001b[0;31m# Example 3 - breaking (to illustrate when it breaks)\u001b[0m\u001b[0;34m\u001b[0m\u001b[0;34m\u001b[0m\u001b[0;34m\u001b[0m\u001b[0m\n\u001b[0;32m----> 2\u001b[0;31m \u001b[0mtorch\u001b[0m\u001b[0;34m.\u001b[0m\u001b[0mnarrow\u001b[0m\u001b[0;34m(\u001b[0m\u001b[0mx\u001b[0m\u001b[0;34m,\u001b[0m \u001b[0;36m2\u001b[0m\u001b[0;34m,\u001b[0m \u001b[0;36m1\u001b[0m\u001b[0;34m,\u001b[0m \u001b[0;36m2\u001b[0m\u001b[0;34m)\u001b[0m\u001b[0;34m\u001b[0m\u001b[0;34m\u001b[0m\u001b[0m\n\u001b[0m",
            "\u001b[0;31mIndexError\u001b[0m: Dimension out of range (expected to be in range of [-2, 1], but got 2)"
          ]
        }
      ]
    },
    {
      "cell_type": "markdown",
      "metadata": {
        "id": "nDCr0Ue7W1PH"
      },
      "source": [
        "the function broke because we cant inerpret the given tensor in to 3d dim"
      ]
    },
    {
      "cell_type": "markdown",
      "metadata": {
        "id": "2soCatNEW1PH"
      },
      "source": [
        "we can use thid function when we want to slice down the tensor in to our required dimensions"
      ]
    },
    {
      "cell_type": "markdown",
      "metadata": {
        "id": "PQ3MpfLFW1PH"
      },
      "source": [
        "Let's save our work using Jovian before continuing."
      ]
    },
    {
      "cell_type": "code",
      "metadata": {
        "id": "j4yCa084W1PH"
      },
      "source": [
        "!pip install jovian --upgrade --quiet"
      ],
      "execution_count": null,
      "outputs": []
    },
    {
      "cell_type": "code",
      "metadata": {
        "id": "KQ9iGYb3W1PH"
      },
      "source": [
        "import jovian"
      ],
      "execution_count": null,
      "outputs": []
    },
    {
      "cell_type": "code",
      "metadata": {
        "colab": {
          "base_uri": "https://localhost:8080/",
          "height": 138
        },
        "id": "rEs2jiTjW1PH",
        "outputId": "ea701d40-c1a4-4382-e310-fcbce5e165f0"
      },
      "source": [
        "jovian.commit(project='01-tensor-operations-assignment')"
      ],
      "execution_count": null,
      "outputs": [
        {
          "output_type": "stream",
          "text": [
            "[jovian] Detected Colab notebook...\u001b[0m\n",
            "[jovian] Please enter your API key ( from https://jovian.ai/ ):\u001b[0m\n",
            "API KEY: ··········\n",
            "[jovian] Uploading colab notebook to Jovian...\u001b[0m\n",
            "[jovian] Capturing environment..\u001b[0m\n",
            "[jovian] Committed successfully! https://jovian.ai/saikrithik/01-tensor-operations-assignment\u001b[0m\n"
          ],
          "name": "stdout"
        },
        {
          "output_type": "execute_result",
          "data": {
            "application/vnd.google.colaboratory.intrinsic+json": {
              "type": "string"
            },
            "text/plain": [
              "'https://jovian.ai/saikrithik/01-tensor-operations-assignment'"
            ]
          },
          "metadata": {
            "tags": []
          },
          "execution_count": 17
        }
      ]
    },
    {
      "cell_type": "markdown",
      "metadata": {
        "id": "g--z7-XkW1PI"
      },
      "source": [
        "## Function 2 - torch.randn(*size, *, out=None, dtype=None, layout=torch.strided, device=None, requires_grad=False) → Tensor\n",
        "\n",
        "Returns a tensor filled with random numbers from a normal distribution with mean 0 and variance 1 (also called the standard normal distribution).\n",
        "\n",
        "The shape of the tensor is defined by the variable argument size."
      ]
    },
    {
      "cell_type": "code",
      "metadata": {
        "colab": {
          "base_uri": "https://localhost:8080/"
        },
        "id": "EFs8S455W1PI",
        "outputId": "9026940c-92c3-4537-eaf7-e536fa338978"
      },
      "source": [
        "# Example 1 - working\n",
        "torch.randn(4)"
      ],
      "execution_count": null,
      "outputs": [
        {
          "output_type": "execute_result",
          "data": {
            "text/plain": [
              "tensor([ 0.7123,  0.3265, -0.8695, -0.9115])"
            ]
          },
          "metadata": {
            "tags": []
          },
          "execution_count": 19
        }
      ]
    },
    {
      "cell_type": "markdown",
      "metadata": {
        "id": "YpariCwGW1PI"
      },
      "source": [
        "Here, we created a tensor with random float numbers as default and this random no.s are given a size of 4\n",
        "\n"
      ]
    },
    {
      "cell_type": "code",
      "metadata": {
        "colab": {
          "base_uri": "https://localhost:8080/"
        },
        "id": "YJUz3l_7W1PI",
        "outputId": "ae7a7860-292a-41f9-f660-3f3fcec67b53"
      },
      "source": [
        "# Example 2 - working\n",
        "torch.randn(2,3,3)"
      ],
      "execution_count": null,
      "outputs": [
        {
          "output_type": "execute_result",
          "data": {
            "text/plain": [
              "tensor([[[ 1.2615,  1.1875, -0.5536],\n",
              "         [-0.6052, -0.1955,  0.0916],\n",
              "         [-1.8815,  2.2181,  0.2117]],\n",
              "\n",
              "        [[-0.5565, -0.1400, -1.7476],\n",
              "         [-0.6768,  0.0097,  1.4676],\n",
              "         [ 0.4192,  0.1198,  0.5627]]])"
            ]
          },
          "metadata": {
            "tags": []
          },
          "execution_count": 21
        }
      ]
    },
    {
      "cell_type": "markdown",
      "metadata": {
        "id": "7ZsFKJzMW1PI"
      },
      "source": [
        "We created a random float tensor with 2x3x3 dimensions as given"
      ]
    },
    {
      "cell_type": "code",
      "metadata": {
        "colab": {
          "base_uri": "https://localhost:8080/",
          "height": 252
        },
        "id": "Rz90GQdBW1PI",
        "outputId": "a385adb6-e7fc-4b4c-a288-dca297a2feed"
      },
      "source": [
        "# Example 3 - breaking (to illustrate when it breaks)\n",
        "torch.randn(2,3,3,layout=None)"
      ],
      "execution_count": null,
      "outputs": [
        {
          "output_type": "error",
          "ename": "TypeError",
          "evalue": "ignored",
          "traceback": [
            "\u001b[0;31m---------------------------------------------------------------------------\u001b[0m",
            "\u001b[0;31mTypeError\u001b[0m                                 Traceback (most recent call last)",
            "\u001b[0;32m<ipython-input-24-bd63813c8307>\u001b[0m in \u001b[0;36m<module>\u001b[0;34m()\u001b[0m\n\u001b[1;32m      1\u001b[0m \u001b[0;31m# Example 3 - breaking (to illustrate when it breaks)\u001b[0m\u001b[0;34m\u001b[0m\u001b[0;34m\u001b[0m\u001b[0;34m\u001b[0m\u001b[0m\n\u001b[0;32m----> 2\u001b[0;31m \u001b[0mtorch\u001b[0m\u001b[0;34m.\u001b[0m\u001b[0mrandn\u001b[0m\u001b[0;34m(\u001b[0m\u001b[0;36m2\u001b[0m\u001b[0;34m,\u001b[0m\u001b[0;36m3\u001b[0m\u001b[0;34m,\u001b[0m\u001b[0;36m3\u001b[0m\u001b[0;34m,\u001b[0m\u001b[0mlayout\u001b[0m\u001b[0;34m=\u001b[0m\u001b[0;32mNone\u001b[0m\u001b[0;34m)\u001b[0m\u001b[0;34m\u001b[0m\u001b[0;34m\u001b[0m\u001b[0m\n\u001b[0m",
            "\u001b[0;31mTypeError\u001b[0m: randn() received an invalid combination of arguments - got (int, int, int, layout=NoneType), but expected one of:\n * (tuple of ints size, *, tuple of names names, torch.dtype dtype, torch.layout layout, torch.device device, bool pin_memory, bool requires_grad)\n * (tuple of ints size, *, torch.Generator generator, tuple of names names, torch.dtype dtype, torch.layout layout, torch.device device, bool pin_memory, bool requires_grad)\n * (tuple of ints size, *, torch.Generator generator, Tensor out, torch.dtype dtype, torch.layout layout, torch.device device, bool pin_memory, bool requires_grad)\n * (tuple of ints size, *, Tensor out, torch.dtype dtype, torch.layout layout, torch.device device, bool pin_memory, bool requires_grad)\n"
          ]
        }
      ]
    },
    {
      "cell_type": "markdown",
      "metadata": {
        "id": "8xsSxSkFW1PI"
      },
      "source": [
        "We need to give the layout of the randn function , else we break the function"
      ]
    },
    {
      "cell_type": "markdown",
      "metadata": {
        "id": "k8j3rm-HW1PI"
      },
      "source": [
        "We can use this function to create a random tensor to initiate and use it for Training a DL model with random weights"
      ]
    },
    {
      "cell_type": "code",
      "metadata": {
        "colab": {
          "base_uri": "https://localhost:8080/",
          "height": 104
        },
        "id": "MSpswtuNW1PI",
        "outputId": "314b8a90-a302-4632-8318-3dffd4f9b1f1"
      },
      "source": [
        "jovian.commit(project='01-tensor-operations-assignment')"
      ],
      "execution_count": null,
      "outputs": [
        {
          "output_type": "stream",
          "text": [
            "[jovian] Detected Colab notebook...\u001b[0m\n",
            "[jovian] Uploading colab notebook to Jovian...\u001b[0m\n",
            "[jovian] Capturing environment..\u001b[0m\n",
            "[jovian] Committed successfully! https://jovian.ai/saikrithik/01-tensor-operations-assignment\u001b[0m\n"
          ],
          "name": "stdout"
        },
        {
          "output_type": "execute_result",
          "data": {
            "application/vnd.google.colaboratory.intrinsic+json": {
              "type": "string"
            },
            "text/plain": [
              "'https://jovian.ai/saikrithik/01-tensor-operations-assignment'"
            ]
          },
          "metadata": {
            "tags": []
          },
          "execution_count": 25
        }
      ]
    },
    {
      "cell_type": "markdown",
      "metadata": {
        "id": "wMYh9F_YW1PI"
      },
      "source": [
        "## Function 3 - torch.reciprocal(input, *, out=None) → Tensor\n",
        "\n",
        "Returns a new tensor with the reciprocal of the elements of input\n",
        "### Parameters\n",
        "- input (Tensor) – the input tensor.\n",
        "\n",
        "### Keyword Arguments\n",
        "- out (Tensor, optional) – the output tensor."
      ]
    },
    {
      "cell_type": "code",
      "metadata": {
        "colab": {
          "base_uri": "https://localhost:8080/"
        },
        "id": "0280nTJWW1PI",
        "outputId": "c0c38a43-e839-44ce-8b24-fe7ed1f73832"
      },
      "source": [
        "# Example 1 - working\n",
        "a = torch.randn(4)\n",
        "print(a)\n",
        "torch.reciprocal(a)"
      ],
      "execution_count": null,
      "outputs": [
        {
          "output_type": "stream",
          "text": [
            "tensor([-0.2979, -0.3821, -0.2708, -1.8303])\n"
          ],
          "name": "stdout"
        },
        {
          "output_type": "execute_result",
          "data": {
            "text/plain": [
              "tensor([-3.3569, -2.6171, -3.6922, -0.5464])"
            ]
          },
          "metadata": {
            "tags": []
          },
          "execution_count": 26
        }
      ]
    },
    {
      "cell_type": "markdown",
      "metadata": {
        "id": "S_Bt3NB3W1PJ"
      },
      "source": [
        "we can see it reciprocals the given tensor input of size 4\n"
      ]
    },
    {
      "cell_type": "code",
      "metadata": {
        "colab": {
          "base_uri": "https://localhost:8080/"
        },
        "id": "GtbD9RB8W1PJ",
        "outputId": "d7333ffc-b481-44dd-f9f2-651c8d17ef12"
      },
      "source": [
        "# Example 2 - working\n",
        "a = torch.randn(4,2)\n",
        "print(a)\n",
        "torch.reciprocal(a)"
      ],
      "execution_count": null,
      "outputs": [
        {
          "output_type": "stream",
          "text": [
            "tensor([[-1.3280, -0.1834],\n",
            "        [-0.6587,  1.9439],\n",
            "        [ 0.4733,  1.0576],\n",
            "        [-0.4048, -0.8726]])\n"
          ],
          "name": "stdout"
        },
        {
          "output_type": "execute_result",
          "data": {
            "text/plain": [
              "tensor([[-0.7530, -5.4520],\n",
              "        [-1.5182,  0.5144],\n",
              "        [ 2.1128,  0.9456],\n",
              "        [-2.4705, -1.1460]])"
            ]
          },
          "metadata": {
            "tags": []
          },
          "execution_count": 27
        }
      ]
    },
    {
      "cell_type": "markdown",
      "metadata": {
        "id": "Xkbo3Yy-W1PJ"
      },
      "source": [
        "we can see it reciprocals the given tensor input of size 4,2"
      ]
    },
    {
      "cell_type": "code",
      "metadata": {
        "colab": {
          "base_uri": "https://localhost:8080/",
          "height": 217
        },
        "id": "m35OO1VOW1PJ",
        "outputId": "621eef05-fbb4-4781-d94b-4c4e26e8e799"
      },
      "source": [
        "# Example 3 - breaking (to illustrate when it breaks)\n",
        "a = torch.tensor([0,0,0])\n",
        "print(a)\n",
        "torch.reciprocal(a)"
      ],
      "execution_count": null,
      "outputs": [
        {
          "output_type": "stream",
          "text": [
            "tensor([0, 0, 0])\n"
          ],
          "name": "stdout"
        },
        {
          "output_type": "error",
          "ename": "RuntimeError",
          "evalue": "ignored",
          "traceback": [
            "\u001b[0;31m---------------------------------------------------------------------------\u001b[0m",
            "\u001b[0;31mRuntimeError\u001b[0m                              Traceback (most recent call last)",
            "\u001b[0;32m<ipython-input-31-49608c19b7d8>\u001b[0m in \u001b[0;36m<module>\u001b[0;34m()\u001b[0m\n\u001b[1;32m      2\u001b[0m \u001b[0ma\u001b[0m \u001b[0;34m=\u001b[0m \u001b[0mtorch\u001b[0m\u001b[0;34m.\u001b[0m\u001b[0mtensor\u001b[0m\u001b[0;34m(\u001b[0m\u001b[0;34m[\u001b[0m\u001b[0;36m0\u001b[0m\u001b[0;34m,\u001b[0m\u001b[0;36m0\u001b[0m\u001b[0;34m,\u001b[0m\u001b[0;36m0\u001b[0m\u001b[0;34m]\u001b[0m\u001b[0;34m)\u001b[0m\u001b[0;34m\u001b[0m\u001b[0;34m\u001b[0m\u001b[0m\n\u001b[1;32m      3\u001b[0m \u001b[0mprint\u001b[0m\u001b[0;34m(\u001b[0m\u001b[0ma\u001b[0m\u001b[0;34m)\u001b[0m\u001b[0;34m\u001b[0m\u001b[0;34m\u001b[0m\u001b[0m\n\u001b[0;32m----> 4\u001b[0;31m \u001b[0mtorch\u001b[0m\u001b[0;34m.\u001b[0m\u001b[0mreciprocal\u001b[0m\u001b[0;34m(\u001b[0m\u001b[0ma\u001b[0m\u001b[0;34m)\u001b[0m\u001b[0;34m\u001b[0m\u001b[0;34m\u001b[0m\u001b[0m\n\u001b[0m",
            "\u001b[0;31mRuntimeError\u001b[0m: \"reciprocal_cpu\" not implemented for 'Long'"
          ]
        }
      ]
    },
    {
      "cell_type": "markdown",
      "metadata": {
        "id": "YefW0irdW1PJ"
      },
      "source": [
        "if the tensor contains more '0' then it raises an error because the reciprocal is infinite"
      ]
    },
    {
      "cell_type": "markdown",
      "metadata": {
        "id": "B4PY_9l9W1PJ"
      },
      "source": [
        "we can use this function to make a reciprocal of tensor wen ever necessary\n",
        "\n"
      ]
    },
    {
      "cell_type": "code",
      "metadata": {
        "colab": {
          "base_uri": "https://localhost:8080/",
          "height": 104
        },
        "id": "rfH9FX5qW1PJ",
        "outputId": "47883634-3ddf-40e6-f842-3c7f5255b62d"
      },
      "source": [
        "jovian.commit(project='01-tensor-operations-assignment')"
      ],
      "execution_count": null,
      "outputs": [
        {
          "output_type": "stream",
          "text": [
            "[jovian] Detected Colab notebook...\u001b[0m\n",
            "[jovian] Uploading colab notebook to Jovian...\u001b[0m\n",
            "[jovian] Capturing environment..\u001b[0m\n",
            "[jovian] Committed successfully! https://jovian.ai/saikrithik/01-tensor-operations-assignment\u001b[0m\n"
          ],
          "name": "stdout"
        },
        {
          "output_type": "execute_result",
          "data": {
            "application/vnd.google.colaboratory.intrinsic+json": {
              "type": "string"
            },
            "text/plain": [
              "'https://jovian.ai/saikrithik/01-tensor-operations-assignment'"
            ]
          },
          "metadata": {
            "tags": []
          },
          "execution_count": 32
        }
      ]
    },
    {
      "cell_type": "markdown",
      "metadata": {
        "id": "kV334DNbW1PK"
      },
      "source": [
        "## Function 4 - torch.sigmoid(input, *, out=None) → Tensor\n",
        "\n",
        "Returns a new tensor with the sigmoid of the elements of input.\n",
        "\n",
        "![image.png](data:image/png;base64,iVBORw0KGgoAAAANSUhEUgAAAIgAAAAyCAYAAACH65NBAAAEf0lEQVR4Ae2aIZerPBCG769B1dWtq6rDxa1D4XC4qDh+AQ6Fi6tD4eLicChcHQ73fidQetm2m0u7QOHb6Tk9bQkk03ceJpMJf0AvUsCiwB9LGzWRAiBACAKrAgSIVR5qJECIAasCBIhVHmokQIgBqwIEiFUeaiRAiAGrAgSIVR5qJECIAasCBIhVHmokQGZjoID0PXiBD+Y4EHq2gWbtmACZVV7TuYYgQGZXecMDECAbdt4SphMgS6i84TEIkA07bwnTCZAlVN7wGATIhp23hOkEyBIqb3gMAmTDzpvT9Bo6jRDxT+wdB3sWQEQpdD3nmNP3vVihrNYa1fT2U48zK7AYIEoIbLTaPLML1t39IoDURQLPIUDWjcJj68YDUuWIOEcUCXA/QHKZTHXi4rh34HgSZwDnLIT7sYPTA6ETuO4Hds4eR9eF6yYUSR77YpVHxwFSZwj2HHnT/4cSKTsiLrrfZ+ldAWmPaPEXEHPgLO8iSJ2F2Ee2SaeGigMEwb/eMdTGEr9exS18jgKkiA9weI4rH2aPUjhwggzGN68AgqZCaULOjC/HcUDvvxq8IvUoQFoYbh5oaI/108oLEeQVY+ma5RUYBUgbQbxTm2P0Jr4cQbSA0DV04uFwA13fd/f5C6aYMsHxRtevGrz/1yhAcD7Be5CDRLqbdOos+JKDVCm7yUFO8JwAmZmPVNzlLiYvsQLyfnHmt+CMspw2gdKyWyxMZfs4QAA0pWxXL/yyionVIIFoCiS+DyFzZGkMGYdwnB0+3BBZe1oDHTMwP0KU5F0kWhyQGoXkSG158VSqvqufRkEEbwJk8v+8GCDrfTa0ygKwNo+roWUA5oZIM4U89iFUA1QZQraDG6bIlYQIEhQNUGuJgHmQZ3NKCLYzNSZT2g/ADh74hCX90RFkWkAaVCeOgxejmDbCWsx8YdOs0chmXUNriEui3z67eojRVg4GN49ZIfYzcZNzsLTbsNCiAwQ4Q3p9EXLYn0WKJ5reBMgTFk526guAnCWEuU1ffjWotIJS9+8u9Rg6dPD9G0Bg6ksXWgiQl53y3YXzAmJyNMEFoojD9ziyUTuTAyjM0+99NPkGkCYPH0SQEql7G0EUlAbqPEZafqfHuOMUQWw6jY0gZpV3vEwPpr8ixoGl/9y9rosY3oHjVNWoVPddliVK2U2/qmraIiTjJ+S5BOena5+NjiFShfyUIHQZgtRkITWyMEAsc1wWmLZ/N6qNALHJNBKQtk70weD32wK+BzbRntMwB7GZet/WoJL+NX+5bx93hAC56vSgMOe5OLrezX7Q/d5PV2lW154m+1KXkPwAL1aohvscYwdoi5JjT358HgHyWJfu6DMR5FNew7+5uKmqdp/K1v28bV0E8WX1ZQ/t2TEJEJtiIwFpK807NkgIK8i428i0db+Ftl8AyA+eDR0LiPF0dQL/dOHzCIIn/5tHEH4BID+4T58B5AfDrPlSAmTN3lmBbQTICpywZhMIkDV7ZwW2ESArcMKaTSBA1uydFdhGgKzACWs2gQBZs3dWYNt/o9iFe5zxXZ4AAAAASUVORK5CYII=)\n",
        "\n",
        "### Parameters\n",
        "- input (Tensor) – the input tensor.\n",
        "\n",
        "### Keyword Arguments\n",
        "- out (Tensor, optional) – the output tensor"
      ]
    },
    {
      "cell_type": "code",
      "metadata": {
        "colab": {
          "base_uri": "https://localhost:8080/"
        },
        "id": "X3-a7Y_uW1PK",
        "outputId": "49afb5e0-c9ef-4799-a1b9-68f854b763b4"
      },
      "source": [
        "# Example 1 - working\n",
        "a = torch.randn(4)\n",
        "print(1/(1+torch.exp(-a)))\n",
        "torch.sigmoid(a)"
      ],
      "execution_count": null,
      "outputs": [
        {
          "output_type": "stream",
          "text": [
            "tensor([0.7137, 0.6547, 0.9208, 0.2002])\n"
          ],
          "name": "stdout"
        },
        {
          "output_type": "execute_result",
          "data": {
            "text/plain": [
              "tensor([0.7137, 0.6547, 0.9208, 0.2002])"
            ]
          },
          "metadata": {
            "tags": []
          },
          "execution_count": 35
        }
      ]
    },
    {
      "cell_type": "markdown",
      "metadata": {
        "id": "ZDdobasrW1PK"
      },
      "source": [
        "As we can see this function will return the sigmoid of the given input, we checked it with hard code example"
      ]
    },
    {
      "cell_type": "code",
      "metadata": {
        "colab": {
          "base_uri": "https://localhost:8080/"
        },
        "id": "AdxpPpmsW1PL",
        "outputId": "2e908264-2738-4e13-89b9-4602b4b02121"
      },
      "source": [
        "# Example 2 - working\n",
        "a = torch.randn(4,2)\n",
        "print(1/(1+torch.exp(-a)))\n",
        "torch.sigmoid(a)"
      ],
      "execution_count": null,
      "outputs": [
        {
          "output_type": "stream",
          "text": [
            "tensor([[0.5282, 0.6543],\n",
            "        [0.4787, 0.4019],\n",
            "        [0.4806, 0.5639],\n",
            "        [0.7004, 0.3927]])\n"
          ],
          "name": "stdout"
        },
        {
          "output_type": "execute_result",
          "data": {
            "text/plain": [
              "tensor([[0.5282, 0.6543],\n",
              "        [0.4787, 0.4019],\n",
              "        [0.4806, 0.5639],\n",
              "        [0.7004, 0.3927]])"
            ]
          },
          "metadata": {
            "tags": []
          },
          "execution_count": 36
        }
      ]
    },
    {
      "cell_type": "markdown",
      "metadata": {
        "id": "t2hvCSjHW1PL"
      },
      "source": [
        "Another example illustrating the same with size 4x2\n",
        "\n"
      ]
    },
    {
      "cell_type": "code",
      "metadata": {
        "colab": {
          "base_uri": "https://localhost:8080/",
          "height": 269
        },
        "id": "2TfBifHRW1PL",
        "outputId": "4cccc6c7-07f5-4ecd-9fe7-a01a9e887196"
      },
      "source": [
        "# Example 3 - breaking (to illustrate when it breaks)\n",
        "a = torch.randn(4,2)\n",
        "print(1/(1+torch.exp(-a)))\n",
        "torch.sigmoid(a,out=1)"
      ],
      "execution_count": null,
      "outputs": [
        {
          "output_type": "stream",
          "text": [
            "tensor([[0.6362, 0.3435],\n",
            "        [0.5130, 0.1919],\n",
            "        [0.1982, 0.6105],\n",
            "        [0.3475, 0.5181]])\n"
          ],
          "name": "stdout"
        },
        {
          "output_type": "error",
          "ename": "TypeError",
          "evalue": "ignored",
          "traceback": [
            "\u001b[0;31m---------------------------------------------------------------------------\u001b[0m",
            "\u001b[0;31mTypeError\u001b[0m                                 Traceback (most recent call last)",
            "\u001b[0;32m<ipython-input-43-c07694d894c9>\u001b[0m in \u001b[0;36m<module>\u001b[0;34m()\u001b[0m\n\u001b[1;32m      2\u001b[0m \u001b[0ma\u001b[0m \u001b[0;34m=\u001b[0m \u001b[0mtorch\u001b[0m\u001b[0;34m.\u001b[0m\u001b[0mrandn\u001b[0m\u001b[0;34m(\u001b[0m\u001b[0;36m4\u001b[0m\u001b[0;34m,\u001b[0m\u001b[0;36m2\u001b[0m\u001b[0;34m)\u001b[0m\u001b[0;34m\u001b[0m\u001b[0;34m\u001b[0m\u001b[0m\n\u001b[1;32m      3\u001b[0m \u001b[0mprint\u001b[0m\u001b[0;34m(\u001b[0m\u001b[0;36m1\u001b[0m\u001b[0;34m/\u001b[0m\u001b[0;34m(\u001b[0m\u001b[0;36m1\u001b[0m\u001b[0;34m+\u001b[0m\u001b[0mtorch\u001b[0m\u001b[0;34m.\u001b[0m\u001b[0mexp\u001b[0m\u001b[0;34m(\u001b[0m\u001b[0;34m-\u001b[0m\u001b[0ma\u001b[0m\u001b[0;34m)\u001b[0m\u001b[0;34m)\u001b[0m\u001b[0;34m)\u001b[0m\u001b[0;34m\u001b[0m\u001b[0;34m\u001b[0m\u001b[0m\n\u001b[0;32m----> 4\u001b[0;31m \u001b[0mtorch\u001b[0m\u001b[0;34m.\u001b[0m\u001b[0msigmoid\u001b[0m\u001b[0;34m(\u001b[0m\u001b[0ma\u001b[0m\u001b[0;34m,\u001b[0m\u001b[0mout\u001b[0m\u001b[0;34m=\u001b[0m\u001b[0;36m1\u001b[0m\u001b[0;34m)\u001b[0m\u001b[0;34m\u001b[0m\u001b[0;34m\u001b[0m\u001b[0m\n\u001b[0m",
            "\u001b[0;31mTypeError\u001b[0m: sigmoid(): argument 'out' must be Tensor, not int"
          ]
        }
      ]
    },
    {
      "cell_type": "markdown",
      "metadata": {
        "id": "jKu8G-esW1PL"
      },
      "source": [
        "output should be a tensor"
      ]
    },
    {
      "cell_type": "markdown",
      "metadata": {
        "id": "oS05Bz_CW1PL"
      },
      "source": [
        "We will use this function while activating the linear outputs from the neural network layers"
      ]
    },
    {
      "cell_type": "code",
      "metadata": {
        "colab": {
          "base_uri": "https://localhost:8080/",
          "height": 104
        },
        "id": "exFMWBiBW1PL",
        "outputId": "5ffe8714-c9ff-43ac-bda2-44121b2d0c94"
      },
      "source": [
        "jovian.commit(project='01-tensor-operations-assignment')"
      ],
      "execution_count": null,
      "outputs": [
        {
          "output_type": "stream",
          "text": [
            "[jovian] Detected Colab notebook...\u001b[0m\n",
            "[jovian] Uploading colab notebook to Jovian...\u001b[0m\n",
            "[jovian] Capturing environment..\u001b[0m\n",
            "[jovian] Committed successfully! https://jovian.ai/saikrithik/01-tensor-operations-assignment\u001b[0m\n"
          ],
          "name": "stdout"
        },
        {
          "output_type": "execute_result",
          "data": {
            "application/vnd.google.colaboratory.intrinsic+json": {
              "type": "string"
            },
            "text/plain": [
              "'https://jovian.ai/saikrithik/01-tensor-operations-assignment'"
            ]
          },
          "metadata": {
            "tags": []
          },
          "execution_count": 44
        }
      ]
    },
    {
      "cell_type": "markdown",
      "metadata": {
        "id": "ro58iKVkW1PM"
      },
      "source": [
        "## Function 5 - torch.tanh(input, *, out=None) → Tensor\n",
        "\n",
        "Returns a new tensor with the hyperbolic tangent of the elements of input.\n",
        "\n",
        "![image.png](data:image/png;base64,iVBORw0KGgoAAAANSUhEUgAAAIoAAAAgCAYAAADNAODsAAAFbUlEQVR4Ae1YLbOrOhS9vyYKV3dcFQ6Hw6FwOBwqjl8Qh8JF3BnMnag6XOYZnkLhcDjcehO+S6GF83r62jfpzJlDkp1kZe+V/ZFf0D+tgR0a+LVDRotoDUATRZNglwY0UXapSQtpomgO7NKAJsouNWkhTRTNgV0a0ETZpSYtpInyTA6UEnn9zAWfv1YlJcpvLKuJck9pMoZlnkCIC17dEwRQcgSRRNOKleCOgRPN+vaDua8cbiSigB8myw8SpYSUr79e9TdvzKatKg73IVEqcDfEpWMJgBoitOCwgTibqz91YO/Zm0sI9yHzr6H9HFFKDnoQzDW077UySiG/N3V91g6iNFkIk+Xr81/Yu//sOZgZIhuJ/RjkDxGlggjPh1n7GO59iTqP4ZJXE6XBJTzjv+bJ0bPn7IxwcoH3FQvcf8IvLxHCMEJEQ3h+jC6SVBCBhS+DgNDu7srYgnkiIC5HhW5ctY0vC5ZlIRCPAvxDnI8FVD5hfcEgJ5iW2jfuPUuDIqUIqTqHD8djyAY4Yw5CIfIULEnBqQM7EBhE0HuU+JIiZgzUs2FfhRSJyJiHHaASwUwfwKgfKpCnDEnKQR170ovC8WWAEA80jhCxCNS3YYeiyyVGnH2uVAkE7VkJWhNsnn1bbSr8GNF+37vpUWrh4xRepmSsSGCbDIODlXQiioJTcbcnSgdOjR+Ng6gzMN+H/+iPZVjNflqjLj2KBCUTljr1QOxkSubaOQReOqyYgRILSdEruR93+VArrIyfJ70Mplnqo20TD9M2FMRKMGyjkmFH5ULDNirP8Q2YQ4LcE3aK5t25+ruqDHDMm8oIRnuxB8T3/28QJQc7k4Vr6oD5olPocaLUEMEJB0h8H/na6IayqlyiHOJxkcCah6ddBphXPQsDqfVWFL5KlLmcpCA3OK5Jrm49Ib232oXzev6aisY+td4czziw/rFBlIUy2rld3+AljhMFaMpicunreP5d7wZRUBe4JBHCwIPvWjjdGOgOER4ZaONmPoMoaMk0hJtl9bWw0drZiximm67r/DlE6TyKm46RGkAH7LhHqcCpyl12/J4ZeiTt4neVwjVM0KwPLaNCmy6sPiLCnvGVm/kMoqjwT4y+OtmDY7gAw9lRoSiGkLrQvwp1K7gXUmNzw6MAVequ5CgRZO/CVdY8JLNAgyw0rnOUyMC5LQVKcCZQ1xKxe+6MN27/5A9FCuKjjY4ZaysRdQ5ixlMukPUuv+LgKpfbZYA7HqcW8AcDzY7zPaLMc5QS3CVT2d3uM8NRJrBJn8yqfVfOPoNz+6m81TwHvZW46tkkijJ+wVW1E/ZVz6xaUEtUAqHnI04vSOMYMXVA2oqjrzbKFL7pIIgipHnHLqW8Mfm6gvGsRgPJbNhehCi+dF6sKcBDGy7l4JwhuWTg7qmVEX8JUN+CQQxYPoWQEkno4EQITI8i+fP7dpx6MIfxtgwskFgu5s63FBEC2wAxbASJxN+CwrdU24JPBaRMEDrqxdeER5OummwJG4AlFJRFCD0HfiJnSXuDPPbgUY6LSMA4Q0C6yrKrKm/PXgof9obXKLlzqNi4Q5RnGW9a5+eJMu31yq+jbxKr2FqiHEhGVxdZdkrQVaKoispGMlZYy3m3bU2UW50c71FG9tLZ7T++xOHydtcWG0SpU/i+OIT3dURpSqTqtZblhwDu0scbCJU8ABsSuKN4yikE2kEfio6usSq/RpQGGQ1m7zWrE286X0eUm63/bx0NZByPyf47nK7OGdxziHR8RFKpJUX8DUJroryDRT8AgybKBxjpHSBqoryDFT4AgybKBxjpHSBqoryDFT4AgybKBxjpHSBqoryDFT4AgybKBxjpHSD+A7oMIvnKNlwCAAAAAElFTkSuQmCC)\n",
        "\n",
        "### Parameters\n",
        "- input (Tensor) – the input tensor.\n",
        "\n",
        "### Keyword Arguments\n",
        "- out (Tensor, optional) – the output tensor."
      ]
    },
    {
      "cell_type": "code",
      "metadata": {
        "colab": {
          "base_uri": "https://localhost:8080/"
        },
        "id": "w5aJCbscW1PM",
        "outputId": "164e3956-ef75-4807-d0fe-20849e87db16"
      },
      "source": [
        "# Example 1 - working\n",
        "a = torch.randn(4)\n",
        "torch.tanh(a)"
      ],
      "execution_count": null,
      "outputs": [
        {
          "output_type": "execute_result",
          "data": {
            "text/plain": [
              "tensor([ 0.2871, -0.8034,  0.6369,  0.6885])"
            ]
          },
          "metadata": {
            "tags": []
          },
          "execution_count": 45
        }
      ]
    },
    {
      "cell_type": "markdown",
      "metadata": {
        "id": "24NDB6WRW1PM"
      },
      "source": [
        "As we can see this function will return the tanh of the given input"
      ]
    },
    {
      "cell_type": "code",
      "metadata": {
        "colab": {
          "base_uri": "https://localhost:8080/"
        },
        "id": "6IXprJOpW1PM",
        "outputId": "6adaf4b2-c2a0-4322-9660-65c624ef6b8a"
      },
      "source": [
        "# Example 2 - working\n",
        "a = torch.randn(4,2)\n",
        "torch.tanh(a)"
      ],
      "execution_count": null,
      "outputs": [
        {
          "output_type": "execute_result",
          "data": {
            "text/plain": [
              "tensor([[ 0.8674, -0.1815],\n",
              "        [-0.6162,  0.8614],\n",
              "        [ 0.2544,  0.7124],\n",
              "        [ 0.6435, -0.1349]])"
            ]
          },
          "metadata": {
            "tags": []
          },
          "execution_count": 46
        }
      ]
    },
    {
      "cell_type": "markdown",
      "metadata": {
        "id": "0rgaS9iaW1PM"
      },
      "source": [
        "Another example illustrating the same with size 4x2"
      ]
    },
    {
      "cell_type": "code",
      "metadata": {
        "colab": {
          "base_uri": "https://localhost:8080/",
          "height": 200
        },
        "id": "xjwNQ-LEW1PM",
        "outputId": "7e94130c-9381-4cef-a1f0-f844c2040c98"
      },
      "source": [
        "# Example 3 - breaking (to illustrate when it breaks)\n",
        "a = torch.randn(4,2)\n",
        "torch.sigmoid(a,out=1)"
      ],
      "execution_count": null,
      "outputs": [
        {
          "output_type": "error",
          "ename": "TypeError",
          "evalue": "ignored",
          "traceback": [
            "\u001b[0;31m---------------------------------------------------------------------------\u001b[0m",
            "\u001b[0;31mTypeError\u001b[0m                                 Traceback (most recent call last)",
            "\u001b[0;32m<ipython-input-47-09367136e914>\u001b[0m in \u001b[0;36m<module>\u001b[0;34m()\u001b[0m\n\u001b[1;32m      1\u001b[0m \u001b[0;31m# Example 3 - breaking (to illustrate when it breaks)\u001b[0m\u001b[0;34m\u001b[0m\u001b[0;34m\u001b[0m\u001b[0;34m\u001b[0m\u001b[0m\n\u001b[1;32m      2\u001b[0m \u001b[0ma\u001b[0m \u001b[0;34m=\u001b[0m \u001b[0mtorch\u001b[0m\u001b[0;34m.\u001b[0m\u001b[0mrandn\u001b[0m\u001b[0;34m(\u001b[0m\u001b[0;36m4\u001b[0m\u001b[0;34m,\u001b[0m\u001b[0;36m2\u001b[0m\u001b[0;34m)\u001b[0m\u001b[0;34m\u001b[0m\u001b[0;34m\u001b[0m\u001b[0m\n\u001b[0;32m----> 3\u001b[0;31m \u001b[0mtorch\u001b[0m\u001b[0;34m.\u001b[0m\u001b[0msigmoid\u001b[0m\u001b[0;34m(\u001b[0m\u001b[0ma\u001b[0m\u001b[0;34m,\u001b[0m\u001b[0mout\u001b[0m\u001b[0;34m=\u001b[0m\u001b[0;36m1\u001b[0m\u001b[0;34m)\u001b[0m\u001b[0;34m\u001b[0m\u001b[0;34m\u001b[0m\u001b[0m\n\u001b[0m",
            "\u001b[0;31mTypeError\u001b[0m: sigmoid(): argument 'out' must be Tensor, not int"
          ]
        }
      ]
    },
    {
      "cell_type": "markdown",
      "metadata": {
        "id": "6kdjNU4BW1PM"
      },
      "source": [
        "output should be a tensor"
      ]
    },
    {
      "cell_type": "markdown",
      "metadata": {
        "id": "lJ3LxH1eW1PM"
      },
      "source": [
        "We will use this function while activating the linear outputs from the neural network layers due to the non linearity of this function"
      ]
    },
    {
      "cell_type": "code",
      "metadata": {
        "colab": {
          "base_uri": "https://localhost:8080/",
          "height": 104
        },
        "id": "Sdtsb0AOW1PM",
        "outputId": "fee39fdf-2bed-4e2d-8b6c-adf1f68d648c"
      },
      "source": [
        "jovian.commit(project='01-tensor-operations-assignment')"
      ],
      "execution_count": null,
      "outputs": [
        {
          "output_type": "stream",
          "text": [
            "[jovian] Detected Colab notebook...\u001b[0m\n",
            "[jovian] Uploading colab notebook to Jovian...\u001b[0m\n",
            "[jovian] Capturing environment..\u001b[0m\n",
            "[jovian] Committed successfully! https://jovian.ai/saikrithik/01-tensor-operations-assignment\u001b[0m\n"
          ],
          "name": "stdout"
        },
        {
          "output_type": "execute_result",
          "data": {
            "application/vnd.google.colaboratory.intrinsic+json": {
              "type": "string"
            },
            "text/plain": [
              "'https://jovian.ai/saikrithik/01-tensor-operations-assignment'"
            ]
          },
          "metadata": {
            "tags": []
          },
          "execution_count": 48
        }
      ]
    },
    {
      "cell_type": "markdown",
      "metadata": {
        "id": "V-tR92ApW1PN"
      },
      "source": [
        "## Conclusion\n",
        "\n",
        "We have learnt about activation function, how to create a random size tensor, how to slice the tensor according to our necessity etc."
      ]
    },
    {
      "cell_type": "markdown",
      "metadata": {
        "id": "qvAGVafmW1PN"
      },
      "source": [
        "## Reference Links\n",
        "Provide links to your references and other interesting articles about tensors\n",
        "* Official documentation for tensor operations: https://pytorch.org/docs/stable/torch.html\n",
        "* SIGMOID FUNCTION: https://en.wikipedia.org/wiki/Sigmoid_function\n",
        "* TANH FUNCTION: https://reference.wolfram.com/language/ref/Tanh.html"
      ]
    },
    {
      "cell_type": "code",
      "metadata": {
        "colab": {
          "base_uri": "https://localhost:8080/",
          "height": 104
        },
        "id": "F_QV-wvoW1PN",
        "outputId": "7a8f4db9-dd34-4843-d3c7-2d2d82cde04d"
      },
      "source": [
        "jovian.commit(project='01-tensor-operations-assignment')\n"
      ],
      "execution_count": null,
      "outputs": [
        {
          "output_type": "stream",
          "text": [
            "[jovian] Detected Colab notebook...\u001b[0m\n",
            "[jovian] Uploading colab notebook to Jovian...\u001b[0m\n",
            "[jovian] Capturing environment..\u001b[0m\n",
            "[jovian] Committed successfully! https://jovian.ai/saikrithik/01-tensor-operations-assignment\u001b[0m\n"
          ],
          "name": "stdout"
        },
        {
          "output_type": "execute_result",
          "data": {
            "application/vnd.google.colaboratory.intrinsic+json": {
              "type": "string"
            },
            "text/plain": [
              "'https://jovian.ai/saikrithik/01-tensor-operations-assignment'"
            ]
          },
          "metadata": {
            "tags": []
          },
          "execution_count": 49
        }
      ]
    },
    {
      "cell_type": "code",
      "metadata": {
        "colab": {
          "base_uri": "https://localhost:8080/"
        },
        "id": "B3YZGu5LW1PO",
        "outputId": "596c2e5c-d534-42bd-a072-8b0fac33e92e"
      },
      "source": [
        "jovian.submit(assignment=\"zerotogans-a1\")"
      ],
      "execution_count": null,
      "outputs": [
        {
          "output_type": "stream",
          "text": [
            "[jovian] Detected Colab notebook...\u001b[0m\n"
          ],
          "name": "stdout"
        },
        {
          "output_type": "stream",
          "text": [
            "\u001b[31m[jovian] Error: Please provide the project argument e.g. jovian.commit(project='my-project')\u001b[0m\n"
          ],
          "name": "stderr"
        }
      ]
    },
    {
      "cell_type": "code",
      "metadata": {
        "id": "Zc3EGW8Nn3fg"
      },
      "source": [
        ""
      ],
      "execution_count": null,
      "outputs": []
    }
  ]
}