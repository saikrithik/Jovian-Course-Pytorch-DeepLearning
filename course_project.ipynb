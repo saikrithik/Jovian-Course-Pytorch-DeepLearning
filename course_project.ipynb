{
  "nbformat": 4,
  "nbformat_minor": 0,
  "metadata": {
    "accelerator": "GPU",
    "colab": {
      "name": "course-project-01.ipynb",
      "provenance": [],
      "collapsed_sections": [],
      "toc_visible": true,
      "include_colab_link": true
    },
    "kernelspec": {
      "display_name": "Python 3",
      "language": "python",
      "name": "python3"
    },
    "language_info": {
      "codemirror_mode": {
        "name": "ipython",
        "version": 3
      },
      "file_extension": ".py",
      "mimetype": "text/x-python",
      "name": "python",
      "nbconvert_exporter": "python",
      "pygments_lexer": "ipython3",
      "version": "3.7.6"
    }
  },
  "cells": [
    {
      "cell_type": "markdown",
      "metadata": {
        "id": "view-in-github",
        "colab_type": "text"
      },
      "source": [
        "<a href=\"https://colab.research.google.com/github/saikrithik/Jovian-Course-Pytorch-DeepLearning/blob/main/course_project.ipynb\" target=\"_parent\"><img src=\"https://colab.research.google.com/assets/colab-badge.svg\" alt=\"Open In Colab\"/></a>"
      ]
    },
    {
      "cell_type": "code",
      "metadata": {
        "id": "cLkBFHU8mTY6"
      },
      "source": [
        "# Jovian Commit Essentials\n",
        "# Please retain and execute this cell without modifying the contents for `jovian.commit` to work\n",
        "!pip install jovian --upgrade -q\n",
        "import jovian\n",
        "jovian.utils.colab.set_colab_file_id('1bxrVmIEyoMzQybpcuHNbBSsVYvpJdm8a')"
      ],
      "execution_count": null,
      "outputs": []
    },
    {
      "cell_type": "code",
      "metadata": {
        "colab": {
          "base_uri": "https://localhost:8080/"
        },
        "id": "4Q-DO0b_tZ0n",
        "outputId": "992d2a0b-89bb-4947-ec47-e517cd31b42b"
      },
      "source": [
        "!nvidia-smi"
      ],
      "execution_count": null,
      "outputs": [
        {
          "output_type": "stream",
          "text": [
            "Mon Jan  4 13:51:10 2021       \n",
            "+-----------------------------------------------------------------------------+\n",
            "| NVIDIA-SMI 460.27.04    Driver Version: 418.67       CUDA Version: 10.1     |\n",
            "|-------------------------------+----------------------+----------------------+\n",
            "| GPU  Name        Persistence-M| Bus-Id        Disp.A | Volatile Uncorr. ECC |\n",
            "| Fan  Temp  Perf  Pwr:Usage/Cap|         Memory-Usage | GPU-Util  Compute M. |\n",
            "|                               |                      |               MIG M. |\n",
            "|===============================+======================+======================|\n",
            "|   0  Tesla T4            Off  | 00000000:00:04.0 Off |                    0 |\n",
            "| N/A   76C    P0    35W /  70W |   5243MiB / 15079MiB |      0%      Default |\n",
            "|                               |                      |                 ERR! |\n",
            "+-------------------------------+----------------------+----------------------+\n",
            "                                                                               \n",
            "+-----------------------------------------------------------------------------+\n",
            "| Processes:                                                                  |\n",
            "|  GPU   GI   CI        PID   Type   Process name                  GPU Memory |\n",
            "|        ID   ID                                                   Usage      |\n",
            "|=============================================================================|\n",
            "|  No running processes found                                                 |\n",
            "+-----------------------------------------------------------------------------+\n"
          ],
          "name": "stdout"
        }
      ]
    },
    {
      "cell_type": "code",
      "metadata": {
        "id": "eZqiZl3ll-En"
      },
      "source": [
        "!pip install jovian --upgrade --quiet"
      ],
      "execution_count": null,
      "outputs": []
    },
    {
      "cell_type": "markdown",
      "metadata": {
        "id": "CSxkgur1NeuG"
      },
      "source": [
        "# Course PROJECT\r\n",
        "##### [Game of Deep Learning: Computer Vision Hackathon](https://datahack.analyticsvidhya.com/contest/game-of-deep-learning)\r\n"
      ]
    },
    {
      "cell_type": "code",
      "metadata": {
        "id": "UTuZmt-Cl-Eo"
      },
      "source": [
        "import os\r\n",
        "import torch\r\n",
        "import torchvision\r\n",
        "import tarfile\r\n",
        "import torch.nn as nn\r\n",
        "import numpy as np\r\n",
        "import torch.nn.functional as F\r\n",
        "from torchvision.datasets.utils import download_url\r\n",
        "from torchvision.datasets import ImageFolder\r\n",
        "from torch.utils.data import DataLoader\r\n",
        "import torchvision.transforms as tt\r\n",
        "from torch.utils.data import random_split\r\n",
        "from torchvision.utils import make_grid\r\n",
        "import matplotlib\r\n",
        "import matplotlib.pyplot as plt\r\n",
        "%matplotlib inline\r\n",
        "\r\n",
        "matplotlib.rcParams['figure.facecolor'] = '#ffffff'"
      ],
      "execution_count": null,
      "outputs": []
    },
    {
      "cell_type": "code",
      "metadata": {
        "id": "bFEYCxgJmHbv"
      },
      "source": [
        "project_name='course-project-01'"
      ],
      "execution_count": null,
      "outputs": []
    },
    {
      "cell_type": "markdown",
      "metadata": {
        "id": "hLmegmhoF1vt"
      },
      "source": [
        "## Downloading Data"
      ]
    },
    {
      "cell_type": "code",
      "metadata": {
        "colab": {
          "base_uri": "https://localhost:8080/"
        },
        "id": "t8TaLtvRpYMV",
        "outputId": "26724f19-7aa6-4ed1-c5b0-7fe3b0069cdd"
      },
      "source": [
        "!gdown --id 1NtTtrudF4MBAVc8mMF8qUmu36OEbgqRJ"
      ],
      "execution_count": null,
      "outputs": [
        {
          "output_type": "stream",
          "text": [
            "Downloading...\n",
            "From: https://drive.google.com/uc?id=1NtTtrudF4MBAVc8mMF8qUmu36OEbgqRJ\n",
            "To: /content/course-project-01.rar\n",
            "171MB [00:00, 176MB/s]\n"
          ],
          "name": "stdout"
        }
      ]
    },
    {
      "cell_type": "markdown",
      "metadata": {
        "id": "xCuNreKzuFmt"
      },
      "source": [
        "## Setting up our Data"
      ]
    },
    {
      "cell_type": "code",
      "metadata": {
        "colab": {
          "base_uri": "https://localhost:8080/"
        },
        "id": "FuUe3KCKyxNO",
        "outputId": "0025bb03-bccb-4a9f-b1e7-f89d8cb2c48c"
      },
      "source": [
        "try:\r\n",
        "    os.makedirs(\"my-course-project\")\r\n",
        "except FileExistsError:\r\n",
        "    pass\r\n",
        "\r\n",
        "if len(os.listdir('/content/my-course-project'))==0:\r\n",
        "  !unrar x \"/content/course-project-01.rar\" \"/content/my-course-project\" \r\n",
        "else:\r\n",
        "  print(\"Already Unzipped\")\r\n",
        "\r\n",
        "try:\r\n",
        "    os.makedirs(\"dataset\")\r\n",
        "except FileExistsError:\r\n",
        "    pass\r\n",
        "#--------------------------------\r\n",
        "try:\r\n",
        "    os.makedirs(\"/content/dataset/train\")\r\n",
        "except FileExistsError:\r\n",
        "    pass\r\n",
        "try:\r\n",
        "    os.makedirs(\"/content/dataset/test\")\r\n",
        "except FileExistsError:\r\n",
        "    pass\r\n",
        "#---------------------------------\r\n",
        "import pandas as pd\r\n",
        "train = pd.read_csv(\"/content/my-course-project/train/train.csv\")\r\n",
        "test = pd.read_csv(\"/content/my-course-project/test_ApKoW4T.csv\")\r\n",
        "for i in train.category.unique():\r\n",
        "  try:\r\n",
        "    os.mkdir(\"/content/dataset/train/\"+str(i))\r\n",
        "  except FileExistsError:\r\n",
        "    pass"
      ],
      "execution_count": null,
      "outputs": [
        {
          "output_type": "stream",
          "text": [
            "Already Unzipped\n"
          ],
          "name": "stdout"
        }
      ]
    },
    {
      "cell_type": "markdown",
      "metadata": {
        "id": "fDYnZlouzT3l"
      },
      "source": [
        "#### Copying files because of the data leak between train and test"
      ]
    },
    {
      "cell_type": "code",
      "metadata": {
        "id": "ehu_J8nSuVRp"
      },
      "source": [
        "import shutil\r\n",
        "for iter,image in enumerate(train[\"image\"]):\r\n",
        "  shutil.copyfile(\"/content/my-course-project/train/images/\"+image,\r\n",
        "              \"/content/dataset/train/\"+str(train[\"category\"][iter])+\"/\"+image)\r\n",
        "for iter,image in enumerate(test[\"image\"]):\r\n",
        "  shutil.copyfile(\"/content/my-course-project/train/images/\"+image,\r\n",
        "              \"/content/dataset/test/\"+image)"
      ],
      "execution_count": null,
      "outputs": []
    },
    {
      "cell_type": "code",
      "metadata": {
        "colab": {
          "base_uri": "https://localhost:8080/"
        },
        "id": "xe2aawm0uaaC",
        "outputId": "400064a6-4799-479c-9b1b-8ed692cbf930"
      },
      "source": [
        "# Look into the data directory\r\n",
        "data_dir = '/content/dataset'\r\n",
        "print(os.listdir(data_dir))\r\n",
        "classes = os.listdir(data_dir + \"/train\")\r\n",
        "print(classes)"
      ],
      "execution_count": null,
      "outputs": [
        {
          "output_type": "stream",
          "text": [
            "['train', 'test']\n",
            "['3', '1', '2', '5', '4']\n"
          ],
          "name": "stdout"
        }
      ]
    },
    {
      "cell_type": "code",
      "metadata": {
        "id": "U1uyxwMqz8ea"
      },
      "source": [
        "import cv2\r\n",
        "imagesdf= []\r\n",
        "for i in os.listdir('/content/my-course-project/train/images'):\r\n",
        "  img = cv2.imread(\"/content/my-course-project/train/images/\"+str(i),1)\r\n",
        "  resized_image = cv2.resize(img, (200, 300))\r\n",
        "  imagesdf.append(resized_image)\r\n",
        "imagesdf = np.array(imagesdf).reshape(8932,3,300,200)"
      ],
      "execution_count": null,
      "outputs": []
    },
    {
      "cell_type": "code",
      "metadata": {
        "id": "H8HQtmqjMCnK"
      },
      "source": [
        "# red_mean = imagesdf[:,0].mean()/255\r\n",
        "# blue_mean = imagesdf[:,1].mean()/255\r\n",
        "# green_mean = imagesdf[:,2].mean()/255\r\n",
        "# red_std = imagesdf[:,0].std()/255\r\n",
        "# blue_std = imagesdf[:,1].std()/255\r\n",
        "# green_std = imagesdf[:,2].std()/255\r\n",
        "# # Data transforms (normalization & data augmentation)\r\n",
        "# stats = ((red_mean, blue_mean, green_mean), (red_std, blue_std, green_std))"
      ],
      "execution_count": null,
      "outputs": []
    },
    {
      "cell_type": "code",
      "metadata": {
        "colab": {
          "base_uri": "https://localhost:8080/"
        },
        "id": "hBZB12lL68_X",
        "outputId": "6e1eb9a7-2966-45bf-d73a-5c39debe2b70"
      },
      "source": [
        "data_dir = '/content/dataset'\r\n",
        "transformations = tt.Compose([\r\n",
        "    tt.Resize((256,384),interpolation=2),\r\n",
        "    tt.ToTensor(),\r\n",
        "    # tt.Normalize(*stats,inplace=True)\r\n",
        "])\r\n",
        "dataset = ImageFolder(data_dir+'/train', transform = transformations)\r\n",
        "len(dataset)"
      ],
      "execution_count": null,
      "outputs": [
        {
          "output_type": "execute_result",
          "data": {
            "text/plain": [
              "6252"
            ]
          },
          "metadata": {
            "tags": []
          },
          "execution_count": 104
        }
      ]
    },
    {
      "cell_type": "code",
      "metadata": {
        "id": "_zrU2aHH7Ptt"
      },
      "source": [
        "def show_example(img, label):\r\n",
        "    print('Label: ', dataset.classes[label], \"(\"+str(label)+\")\")\r\n",
        "    plt.imshow(img.permute(1, 2, 0))"
      ],
      "execution_count": null,
      "outputs": []
    },
    {
      "cell_type": "code",
      "metadata": {
        "colab": {
          "base_uri": "https://localhost:8080/",
          "height": 286
        },
        "id": "dLwgaJ5V7Sx1",
        "outputId": "2a02dbd7-c3f6-4b30-8e12-f27a236a156d"
      },
      "source": [
        "show_example(*dataset[1200])"
      ],
      "execution_count": null,
      "outputs": [
        {
          "output_type": "stream",
          "text": [
            "Label:  1 (0)\n"
          ],
          "name": "stdout"
        },
        {
          "output_type": "display_data",
          "data": {
            "image/png": "[encoded data removed]",
            "text/plain": [
              "<Figure size 432x288 with 1 Axes>"
            ]
          },
          "metadata": {
            "tags": []
          }
        }
      ]
    },
    {
      "cell_type": "code",
      "metadata": {
        "colab": {
          "base_uri": "https://localhost:8080/",
          "height": 286
        },
        "id": "wSPB9E187VvW",
        "outputId": "f9356396-0ab3-4c53-e576-7065518af331"
      },
      "source": [
        "show_example(*dataset[1220])"
      ],
      "execution_count": null,
      "outputs": [
        {
          "output_type": "stream",
          "text": [
            "Label:  1 (0)\n"
          ],
          "name": "stdout"
        },
        {
          "output_type": "display_data",
          "data": {
            "image/png": "[encoded data removed]",
            "text/plain": [
              "<Figure size 432x288 with 1 Axes>"
            ]
          },
          "metadata": {
            "tags": []
          }
        }
      ]
    },
    {
      "cell_type": "markdown",
      "metadata": {
        "id": "YnJyF8dJHZOg"
      },
      "source": [
        "## Commit"
      ]
    },
    {
      "cell_type": "code",
      "metadata": {
        "colab": {
          "base_uri": "https://localhost:8080/",
          "height": 103
        },
        "id": "zJliDX386tpH",
        "outputId": "7e34d229-7d80-493e-9ec1-8cc4ad6dffdc"
      },
      "source": [
        "jovian.commit(project=project_name)"
      ],
      "execution_count": null,
      "outputs": [
        {
          "output_type": "stream",
          "text": [
            "[jovian] Detected Colab notebook...\u001b[0m\n",
            "[jovian] Uploading colab notebook to Jovian...\u001b[0m\n",
            "[jovian] Capturing environment..\u001b[0m\n",
            "[jovian] Committed successfully! https://jovian.ai/saikrithik/course-project-01\u001b[0m\n"
          ],
          "name": "stdout"
        },
        {
          "output_type": "execute_result",
          "data": {
            "application/vnd.google.colaboratory.intrinsic+json": {
              "type": "string"
            },
            "text/plain": [
              "'https://jovian.ai/saikrithik/course-project-01'"
            ]
          },
          "metadata": {
            "tags": []
          },
          "execution_count": 108
        }
      ]
    },
    {
      "cell_type": "code",
      "metadata": {
        "id": "yNDIobwA6tsq"
      },
      "source": [
        "random_seed = 42\r\n",
        "torch.manual_seed(random_seed);"
      ],
      "execution_count": null,
      "outputs": []
    },
    {
      "cell_type": "code",
      "metadata": {
        "colab": {
          "base_uri": "https://localhost:8080/"
        },
        "id": "k-f6hqZ76tlF",
        "outputId": "7fb68e5b-ced3-4def-a54d-3c522a01b5a8"
      },
      "source": [
        "val_size = 600\r\n",
        "train_size = len(dataset) - val_size\r\n",
        "train_ds, valid_ds = random_split(dataset, [train_size, val_size])\r\n",
        "len(train_ds), len(valid_ds)"
      ],
      "execution_count": null,
      "outputs": [
        {
          "output_type": "execute_result",
          "data": {
            "text/plain": [
              "(5652, 600)"
            ]
          },
          "metadata": {
            "tags": []
          },
          "execution_count": 110
        }
      ]
    },
    {
      "cell_type": "code",
      "metadata": {
        "colab": {
          "base_uri": "https://localhost:8080/"
        },
        "id": "xKmp3CrzR2zY",
        "outputId": "2209c523-2148-442e-a6a8-4ba4d2d5bbec"
      },
      "source": [
        "# def class_counter(class_dict,num):\r\n",
        "#   class_dict[num] = class_dict[num] +1\r\n",
        "#   return class_dict\r\n",
        "\r\n",
        "# class_dict = {0:0,1:0,2:0,3:0,4:0}\r\n",
        "# for _,class_num in train_ds:\r\n",
        "#   class_dict = class_counter(class_dict,class_num)\r\n",
        "# factor=1.0/sum(class_dict.values())\r\n",
        "# for k in class_dict:\r\n",
        "#   class_dict[k] = class_dict[k]*factor\r\n",
        "# class_dict"
      ],
      "execution_count": null,
      "outputs": [
        {
          "output_type": "execute_result",
          "data": {
            "text/plain": [
              "{0: 0.3427105449398443,\n",
              " 1: 0.18347487615003538,\n",
              " 2: 0.1475583864118896,\n",
              " 3: 0.13287331917905168,\n",
              " 4: 0.19338287331917905}"
            ]
          },
          "metadata": {
            "tags": []
          },
          "execution_count": 111
        }
      ]
    },
    {
      "cell_type": "code",
      "metadata": {
        "id": "Z48Sinp-R9S5"
      },
      "source": [
        "# class_dict = {0:0,1:0,2:0,3:0,4:0}\r\n",
        "# for _,class_num in valid_ds:\r\n",
        "#   class_dict = class_counter(class_dict,class_num)\r\n",
        "# factor=1.0/sum(class_dict.values())\r\n",
        "# for k in class_dict:\r\n",
        "#   class_dict[k] = class_dict[k]*factor\r\n",
        "# class_dict"
      ],
      "execution_count": null,
      "outputs": []
    },
    {
      "cell_type": "code",
      "metadata": {
        "id": "YRrlEU3q46Yq"
      },
      "source": [
        "\r\n",
        "train_tfms = tt.Compose([tt.RandomCrop(200, padding=4), \r\n",
        "                         tt.RandomHorizontalFlip(),\r\n",
        "                         tt.Resize((255,255),interpolation=2),\r\n",
        "                         # tt.RandomRotate\r\n",
        "                        #  tt.RandomResizedCrop(256, scale=(0.5,0.9), ratio=(1, 1)), \r\n",
        "                        #  tt.Normalize(*stats,inplace=True),\r\n",
        "                         tt.ColorJitter(brightness=0.1, contrast=0.1, saturation=0.1, hue=0.1),\r\n",
        "                         tt.ToTensor(),]) \r\n",
        "                        \r\n",
        "valid_tfms = tt.Compose([tt.ToTensor(),\r\n",
        "                        #  tt.Normalize(*stats),\r\n",
        "                         tt.Resize((255,255),interpolation=2),])"
      ],
      "execution_count": null,
      "outputs": []
    },
    {
      "cell_type": "code",
      "metadata": {
        "id": "-odsnY4S_ar_"
      },
      "source": [
        "# transorms\r\n",
        "train_ds.transforms = train_tfms\r\n",
        "valid_ds.transforms = valid_tfms"
      ],
      "execution_count": null,
      "outputs": []
    },
    {
      "cell_type": "code",
      "metadata": {
        "id": "UG5J3KPV9Qy6"
      },
      "source": [
        "batch_size = 32\r\n",
        "# PyTorch data loaders\r\n",
        "train_dl = DataLoader(train_ds, batch_size, shuffle=True, num_workers=3,\r\n",
        "                      pin_memory=True)\r\n",
        "valid_dl = DataLoader(valid_ds, batch_size, num_workers=3, pin_memory=True)"
      ],
      "execution_count": null,
      "outputs": []
    },
    {
      "cell_type": "code",
      "metadata": {
        "colab": {
          "base_uri": "https://localhost:8080/"
        },
        "id": "QgUAt1L8fc-6",
        "outputId": "e43ed3fb-f4e6-41c1-d71d-984092bedf6c"
      },
      "source": [
        "for index,(img,label) in enumerate(valid_dl):\r\n",
        "  if index == 2:\r\n",
        "    print(img.shape)\r\n",
        "    print(label)\r\n",
        "    break"
      ],
      "execution_count": null,
      "outputs": [
        {
          "output_type": "stream",
          "text": [
            "torch.Size([32, 3, 256, 384])\n",
            "tensor([0, 0, 3, 1, 1, 4, 4, 4, 0, 0, 4, 2, 0, 3, 4, 2, 0, 0, 0, 2, 3, 1, 2, 4,\n",
            "        0, 4, 3, 1, 0, 2, 2, 4])\n"
          ],
          "name": "stdout"
        }
      ]
    },
    {
      "cell_type": "markdown",
      "metadata": {
        "id": "RMtE6qooJgRo"
      },
      "source": [
        "### Using a GPU\r\n"
      ]
    },
    {
      "cell_type": "code",
      "metadata": {
        "id": "yEukAcOS-HAu"
      },
      "source": [
        "def get_default_device():\r\n",
        "    \"\"\"Pick GPU if available, else CPU\"\"\"\r\n",
        "    if torch.cuda.is_available():\r\n",
        "        return torch.device('cuda')\r\n",
        "    else:\r\n",
        "        return torch.device('cpu')\r\n",
        "    \r\n",
        "def to_device(data, device):\r\n",
        "    \"\"\"Move tensor(s) to chosen device\"\"\"\r\n",
        "    if isinstance(data, (list,tuple)):\r\n",
        "        return [to_device(x, device) for x in data]\r\n",
        "    return data.to(device, non_blocking=True)\r\n",
        "\r\n",
        "class DeviceDataLoader():\r\n",
        "    \"\"\"Wrap a dataloader to move data to a device\"\"\"\r\n",
        "    def __init__(self, dl, device):\r\n",
        "        self.dl = dl\r\n",
        "        self.device = device\r\n",
        "        \r\n",
        "    def __iter__(self):\r\n",
        "        \"\"\"Yield a batch of data after moving it to device\"\"\"\r\n",
        "        for b in self.dl: \r\n",
        "            yield to_device(b, self.device)\r\n",
        "\r\n",
        "    def __len__(self):\r\n",
        "        \"\"\"Number of batches\"\"\"\r\n",
        "        return len(self.dl)"
      ],
      "execution_count": null,
      "outputs": []
    },
    {
      "cell_type": "code",
      "metadata": {
        "colab": {
          "base_uri": "https://localhost:8080/"
        },
        "id": "2ZkTP9xaJjWg",
        "outputId": "8615755d-2cb3-406e-f9aa-5bcfef796a00"
      },
      "source": [
        "device = get_default_device()\r\n",
        "device"
      ],
      "execution_count": null,
      "outputs": [
        {
          "output_type": "execute_result",
          "data": {
            "text/plain": [
              "device(type='cuda')"
            ]
          },
          "metadata": {
            "tags": []
          },
          "execution_count": 118
        }
      ]
    },
    {
      "cell_type": "code",
      "metadata": {
        "id": "KtmuiI67Jkac"
      },
      "source": [
        "train_dl = DeviceDataLoader(train_dl, device)\r\n",
        "valid_dl = DeviceDataLoader(valid_dl, device)"
      ],
      "execution_count": null,
      "outputs": []
    },
    {
      "cell_type": "code",
      "metadata": {
        "id": "0jUWsgL2Jltn"
      },
      "source": [
        "def accuracy(outputs, labels):\r\n",
        "    _, preds = torch.max(outputs, dim=1)\r\n",
        "    return torch.tensor(torch.sum(preds == labels).item() / len(preds))\r\n",
        "\r\n",
        "class ImageClassificationBase(nn.Module):\r\n",
        "    def training_step(self, batch):\r\n",
        "        images, labels = batch \r\n",
        "        out = self(images)                  # Generate predictions\r\n",
        "        loss = F.cross_entropy(out, labels) # Calculate loss\r\n",
        "        return loss\r\n",
        "    \r\n",
        "    def validation_step(self, batch):\r\n",
        "        images, labels = batch \r\n",
        "        out = self(images)                    # Generate predictions\r\n",
        "        loss = F.cross_entropy(out, labels)   # Calculate loss\r\n",
        "        acc = accuracy(out, labels)           # Calculate accuracy\r\n",
        "        return {'val_loss': loss.detach(), 'val_acc': acc}\r\n",
        "        \r\n",
        "    def validation_epoch_end(self, outputs):\r\n",
        "        batch_losses = [x['val_loss'] for x in outputs]\r\n",
        "        epoch_loss = torch.stack(batch_losses).mean()   # Combine losses\r\n",
        "        batch_accs = [x['val_acc'] for x in outputs]\r\n",
        "        epoch_acc = torch.stack(batch_accs).mean()      # Combine accuracies\r\n",
        "        return {'val_loss': epoch_loss.item(), 'val_acc': epoch_acc.item()}\r\n",
        "    \r\n",
        "    def epoch_end(self, epoch, result):\r\n",
        "        print(\"Epoch [{}], last_lr: {:.5f}, train_loss: {:.4f}, val_loss: {:.4f}, val_acc: {:.4f}\".format(\r\n",
        "            epoch, result['lrs'][-1], result['train_loss'], result['val_loss'], result['val_acc']))"
      ],
      "execution_count": null,
      "outputs": []
    },
    {
      "cell_type": "code",
      "metadata": {
        "id": "IItqDok4Jq05"
      },
      "source": [
        "def conv_block(in_channels, out_channels, pool=False):\r\n",
        "    layers = [nn.Conv2d(in_channels, out_channels, kernel_size=3, padding=1), \r\n",
        "              nn.BatchNorm2d(out_channels),\r\n",
        "              nn.ReLU(inplace=True)]\r\n",
        "    if pool: layers.append(nn.MaxPool2d(2))\r\n",
        "    return nn.Sequential(*layers)\r\n",
        "\r\n",
        "class ResNet12(ImageClassificationBase):\r\n",
        "    def __init__(self, in_channels, num_classes):\r\n",
        "        super().__init__()\r\n",
        "        #3, 256, 384\r\n",
        "        self.conv1 = conv_block(in_channels, 16)#(16,256,384) \r\n",
        "        self.conv2 = conv_block(16, 32, pool=True)#(32,128,192) \r\n",
        "        self.res1 = nn.Sequential(conv_block(32, 32), conv_block(32, 32))#(32,128,192) \r\n",
        "        \r\n",
        "        self.conv3 = conv_block(32, 64, pool=True)#(64,64,96) \r\n",
        "        self.conv4 = conv_block(64, 128, pool=True)#(128,32,48) \r\n",
        "        self.res2 = nn.Sequential(conv_block(128, 128), conv_block(128, 128))#(128,32,48) \r\n",
        "\r\n",
        "        self.conv5 = conv_block(128, 192, pool=True)#(192,16,24) \r\n",
        "        self.conv6 = conv_block(192, 256, pool=True)#(256,8,12) \r\n",
        "        self.res3 = nn.Sequential(conv_block(256, 256), conv_block(256, 256))\r\n",
        "        \r\n",
        "        self.classifier = nn.Sequential(nn.MaxPool2d(2),#(256,4,6) \r\n",
        "                                        nn.Flatten(), \r\n",
        "                                        nn.Dropout(0.5), \r\n",
        "                                        nn.Linear(256*4*6, 256),\r\n",
        "                                        nn.Dropout(0.3),\r\n",
        "                                        nn.Linear(256, num_classes)) \r\n",
        "        \r\n",
        "    def forward(self, xb):\r\n",
        "        out = self.conv1(xb)\r\n",
        "        out = self.conv2(out)\r\n",
        "        out = self.res1(out) + out\r\n",
        "        out = self.conv3(out)\r\n",
        "        out = self.conv4(out)\r\n",
        "        out = self.res2(out) + out\r\n",
        "        out = self.conv5(out)\r\n",
        "        out = self.conv6(out)\r\n",
        "        out = self.res3(out) + out\r\n",
        "        out = self.classifier(out)\r\n",
        "        return out"
      ],
      "execution_count": null,
      "outputs": []
    },
    {
      "cell_type": "code",
      "metadata": {
        "colab": {
          "base_uri": "https://localhost:8080/"
        },
        "id": "-NQ9a7H8Jt76",
        "outputId": "3a3f8768-c8c4-49ae-946e-50d82e5ec1ff"
      },
      "source": [
        "model = to_device(ResNet12(3, 5), device)\r\n",
        "model"
      ],
      "execution_count": null,
      "outputs": [
        {
          "output_type": "execute_result",
          "data": {
            "text/plain": [
              "ResNet12(\n",
              "  (conv1): Sequential(\n",
              "    (0): Conv2d(3, 16, kernel_size=(3, 3), stride=(1, 1), padding=(1, 1))\n",
              "    (1): BatchNorm2d(16, eps=1e-05, momentum=0.1, affine=True, track_running_stats=True)\n",
              "    (2): ReLU(inplace=True)\n",
              "  )\n",
              "  (conv2): Sequential(\n",
              "    (0): Conv2d(16, 32, kernel_size=(3, 3), stride=(1, 1), padding=(1, 1))\n",
              "    (1): BatchNorm2d(32, eps=1e-05, momentum=0.1, affine=True, track_running_stats=True)\n",
              "    (2): ReLU(inplace=True)\n",
              "    (3): MaxPool2d(kernel_size=2, stride=2, padding=0, dilation=1, ceil_mode=False)\n",
              "  )\n",
              "  (res1): Sequential(\n",
              "    (0): Sequential(\n",
              "      (0): Conv2d(32, 32, kernel_size=(3, 3), stride=(1, 1), padding=(1, 1))\n",
              "      (1): BatchNorm2d(32, eps=1e-05, momentum=0.1, affine=True, track_running_stats=True)\n",
              "      (2): ReLU(inplace=True)\n",
              "    )\n",
              "    (1): Sequential(\n",
              "      (0): Conv2d(32, 32, kernel_size=(3, 3), stride=(1, 1), padding=(1, 1))\n",
              "      (1): BatchNorm2d(32, eps=1e-05, momentum=0.1, affine=True, track_running_stats=True)\n",
              "      (2): ReLU(inplace=True)\n",
              "    )\n",
              "  )\n",
              "  (conv3): Sequential(\n",
              "    (0): Conv2d(32, 64, kernel_size=(3, 3), stride=(1, 1), padding=(1, 1))\n",
              "    (1): BatchNorm2d(64, eps=1e-05, momentum=0.1, affine=True, track_running_stats=True)\n",
              "    (2): ReLU(inplace=True)\n",
              "    (3): MaxPool2d(kernel_size=2, stride=2, padding=0, dilation=1, ceil_mode=False)\n",
              "  )\n",
              "  (conv4): Sequential(\n",
              "    (0): Conv2d(64, 128, kernel_size=(3, 3), stride=(1, 1), padding=(1, 1))\n",
              "    (1): BatchNorm2d(128, eps=1e-05, momentum=0.1, affine=True, track_running_stats=True)\n",
              "    (2): ReLU(inplace=True)\n",
              "    (3): MaxPool2d(kernel_size=2, stride=2, padding=0, dilation=1, ceil_mode=False)\n",
              "  )\n",
              "  (res2): Sequential(\n",
              "    (0): Sequential(\n",
              "      (0): Conv2d(128, 128, kernel_size=(3, 3), stride=(1, 1), padding=(1, 1))\n",
              "      (1): BatchNorm2d(128, eps=1e-05, momentum=0.1, affine=True, track_running_stats=True)\n",
              "      (2): ReLU(inplace=True)\n",
              "    )\n",
              "    (1): Sequential(\n",
              "      (0): Conv2d(128, 128, kernel_size=(3, 3), stride=(1, 1), padding=(1, 1))\n",
              "      (1): BatchNorm2d(128, eps=1e-05, momentum=0.1, affine=True, track_running_stats=True)\n",
              "      (2): ReLU(inplace=True)\n",
              "    )\n",
              "  )\n",
              "  (conv5): Sequential(\n",
              "    (0): Conv2d(128, 192, kernel_size=(3, 3), stride=(1, 1), padding=(1, 1))\n",
              "    (1): BatchNorm2d(192, eps=1e-05, momentum=0.1, affine=True, track_running_stats=True)\n",
              "    (2): ReLU(inplace=True)\n",
              "    (3): MaxPool2d(kernel_size=2, stride=2, padding=0, dilation=1, ceil_mode=False)\n",
              "  )\n",
              "  (conv6): Sequential(\n",
              "    (0): Conv2d(192, 256, kernel_size=(3, 3), stride=(1, 1), padding=(1, 1))\n",
              "    (1): BatchNorm2d(256, eps=1e-05, momentum=0.1, affine=True, track_running_stats=True)\n",
              "    (2): ReLU(inplace=True)\n",
              "    (3): MaxPool2d(kernel_size=2, stride=2, padding=0, dilation=1, ceil_mode=False)\n",
              "  )\n",
              "  (res3): Sequential(\n",
              "    (0): Sequential(\n",
              "      (0): Conv2d(256, 256, kernel_size=(3, 3), stride=(1, 1), padding=(1, 1))\n",
              "      (1): BatchNorm2d(256, eps=1e-05, momentum=0.1, affine=True, track_running_stats=True)\n",
              "      (2): ReLU(inplace=True)\n",
              "    )\n",
              "    (1): Sequential(\n",
              "      (0): Conv2d(256, 256, kernel_size=(3, 3), stride=(1, 1), padding=(1, 1))\n",
              "      (1): BatchNorm2d(256, eps=1e-05, momentum=0.1, affine=True, track_running_stats=True)\n",
              "      (2): ReLU(inplace=True)\n",
              "    )\n",
              "  )\n",
              "  (classifier): Sequential(\n",
              "    (0): MaxPool2d(kernel_size=2, stride=2, padding=0, dilation=1, ceil_mode=False)\n",
              "    (1): Flatten(start_dim=1, end_dim=-1)\n",
              "    (2): Dropout(p=0.5, inplace=False)\n",
              "    (3): Linear(in_features=6144, out_features=256, bias=True)\n",
              "    (4): Dropout(p=0.3, inplace=False)\n",
              "    (5): Linear(in_features=256, out_features=5, bias=True)\n",
              "  )\n",
              ")"
            ]
          },
          "metadata": {
            "tags": []
          },
          "execution_count": 122
        }
      ]
    },
    {
      "cell_type": "code",
      "metadata": {
        "id": "1bRr6wfmJvIp"
      },
      "source": [
        "@torch.no_grad()\r\n",
        "def evaluate(model, val_loader):\r\n",
        "    model.eval()\r\n",
        "    outputs = [model.validation_step(batch) for batch in val_loader]\r\n",
        "    return model.validation_epoch_end(outputs)\r\n",
        "\r\n",
        "def get_lr(optimizer):\r\n",
        "    for param_group in optimizer.param_groups:\r\n",
        "        return param_group['lr']\r\n",
        "\r\n",
        "def fit_one_cycle(epochs, max_lr, model, train_loader, val_loader, \r\n",
        "                  weight_decay=0, grad_clip=None, opt_func=torch.optim.SGD):\r\n",
        "    torch.cuda.empty_cache()\r\n",
        "    history = []\r\n",
        "    \r\n",
        "    # Set up cutom optimizer with weight decay\r\n",
        "    optimizer = opt_func(model.parameters(), max_lr, weight_decay=weight_decay)\r\n",
        "    # Set up one-cycle learning rate scheduler\r\n",
        "    sched = torch.optim.lr_scheduler.OneCycleLR(optimizer, max_lr, epochs=epochs, \r\n",
        "                                                steps_per_epoch=len(train_loader))\r\n",
        "    \r\n",
        "    for epoch in range(epochs):\r\n",
        "        # Training Phase \r\n",
        "        model.train()\r\n",
        "        train_losses = []\r\n",
        "        lrs = []\r\n",
        "        for batch in train_loader:\r\n",
        "            loss = model.training_step(batch)\r\n",
        "            train_losses.append(loss)\r\n",
        "            loss.backward()\r\n",
        "            \r\n",
        "            # Gradient clipping\r\n",
        "            if grad_clip: \r\n",
        "                nn.utils.clip_grad_value_(model.parameters(), grad_clip)\r\n",
        "            \r\n",
        "            optimizer.step()\r\n",
        "            optimizer.zero_grad()\r\n",
        "            \r\n",
        "            # Record & update learning rate\r\n",
        "            lrs.append(get_lr(optimizer))\r\n",
        "            sched.step()\r\n",
        "        \r\n",
        "        # Validation phase\r\n",
        "        result = evaluate(model, val_loader)\r\n",
        "        result['train_loss'] = torch.stack(train_losses).mean().item()\r\n",
        "        result['lrs'] = lrs\r\n",
        "        model.epoch_end(epoch, result)\r\n",
        "        history.append(result)\r\n",
        "    return history"
      ],
      "execution_count": null,
      "outputs": []
    },
    {
      "cell_type": "code",
      "metadata": {
        "colab": {
          "base_uri": "https://localhost:8080/"
        },
        "id": "xfsxo6ukJ9WY",
        "outputId": "556d6688-959b-4c35-e3b0-309398a8b38e"
      },
      "source": [
        "history = [evaluate(model, valid_dl)]\r\n",
        "history"
      ],
      "execution_count": null,
      "outputs": [
        {
          "output_type": "execute_result",
          "data": {
            "text/plain": [
              "[{'val_acc': 0.21655699610710144, 'val_loss': 1.6083157062530518}]"
            ]
          },
          "metadata": {
            "tags": []
          },
          "execution_count": 124
        }
      ]
    },
    {
      "cell_type": "code",
      "metadata": {
        "id": "gLC_bg0hJ-sZ"
      },
      "source": [
        "epochs = 40\r\n",
        "max_lr = 0.008\r\n",
        "grad_clip = 0.1\r\n",
        "weight_decay = 1e-5\r\n",
        "opt_func = torch.optim.Adam\r\n",
        "history=[]"
      ],
      "execution_count": null,
      "outputs": []
    },
    {
      "cell_type": "code",
      "metadata": {
        "colab": {
          "base_uri": "https://localhost:8080/"
        },
        "id": "HH8vE2L4sxnu",
        "outputId": "1e130855-d4d9-4e5c-d70f-ffebd77bc94a"
      },
      "source": [
        "%%time\r\n",
        "history += fit_one_cycle(epochs, max_lr, model, train_dl, valid_dl, \r\n",
        "                             grad_clip=grad_clip, \r\n",
        "                             weight_decay=weight_decay, \r\n",
        "                             opt_func=opt_func)"
      ],
      "execution_count": null,
      "outputs": [
        {
          "output_type": "stream",
          "text": [
            "Epoch [0], last_lr: 0.00045, train_loss: 2.3011, val_loss: 1.7740, val_acc: 0.4359\n",
            "Epoch [1], last_lr: 0.00083, train_loss: 1.9470, val_loss: 1.7485, val_acc: 0.4249\n",
            "Epoch [2], last_lr: 0.00144, train_loss: 1.6311, val_loss: 2.7181, val_acc: 0.5625\n",
            "Epoch [3], last_lr: 0.00224, train_loss: 1.7115, val_loss: 1.8381, val_acc: 0.5603\n",
            "Epoch [4], last_lr: 0.00316, train_loss: 1.5574, val_loss: 1.4159, val_acc: 0.5970\n",
            "Epoch [5], last_lr: 0.00416, train_loss: 1.4166, val_loss: 1.2240, val_acc: 0.6354\n",
            "Epoch [6], last_lr: 0.00515, train_loss: 1.1511, val_loss: 1.1299, val_acc: 0.6354\n",
            "Epoch [7], last_lr: 0.00608, train_loss: 0.8451, val_loss: 0.9578, val_acc: 0.6573\n",
            "Epoch [8], last_lr: 0.00687, train_loss: 0.7307, val_loss: 0.7464, val_acc: 0.6941\n",
            "Epoch [9], last_lr: 0.00749, train_loss: 0.7276, val_loss: 0.8832, val_acc: 0.6634\n",
            "Epoch [10], last_lr: 0.00787, train_loss: 0.6532, val_loss: 0.6774, val_acc: 0.7188\n",
            "Epoch [11], last_lr: 0.00800, train_loss: 0.6311, val_loss: 0.7925, val_acc: 0.6716\n",
            "Epoch [12], last_lr: 0.00797, train_loss: 0.7045, val_loss: 0.8643, val_acc: 0.7018\n",
            "Epoch [13], last_lr: 0.00790, train_loss: 0.5816, val_loss: 0.6288, val_acc: 0.7654\n",
            "Epoch [14], last_lr: 0.00778, train_loss: 0.5339, val_loss: 0.5575, val_acc: 0.7884\n",
            "Epoch [15], last_lr: 0.00760, train_loss: 0.4619, val_loss: 0.5828, val_acc: 0.7834\n",
            "Epoch [16], last_lr: 0.00739, train_loss: 0.6067, val_loss: 1.4157, val_acc: 0.7588\n",
            "Epoch [17], last_lr: 0.00713, train_loss: 0.4775, val_loss: 0.6100, val_acc: 0.7610\n",
            "Epoch [18], last_lr: 0.00683, train_loss: 0.4096, val_loss: 1.2797, val_acc: 0.6409\n",
            "Epoch [19], last_lr: 0.00649, train_loss: 0.6162, val_loss: 0.7319, val_acc: 0.7248\n",
            "Epoch [20], last_lr: 0.00613, train_loss: 0.3723, val_loss: 0.5673, val_acc: 0.7807\n",
            "Epoch [21], last_lr: 0.00574, train_loss: 0.3295, val_loss: 0.5968, val_acc: 0.8163\n",
            "Epoch [22], last_lr: 0.00532, train_loss: 0.3026, val_loss: 0.4415, val_acc: 0.8470\n",
            "Epoch [23], last_lr: 0.00489, train_loss: 0.2551, val_loss: 0.6379, val_acc: 0.8010\n",
            "Epoch [24], last_lr: 0.00445, train_loss: 0.2899, val_loss: 0.5881, val_acc: 0.8218\n",
            "Epoch [25], last_lr: 0.00400, train_loss: 0.2254, val_loss: 0.4777, val_acc: 0.8366\n",
            "Epoch [26], last_lr: 0.00355, train_loss: 0.1854, val_loss: 0.4351, val_acc: 0.8575\n",
            "Epoch [27], last_lr: 0.00311, train_loss: 0.2639, val_loss: 0.6481, val_acc: 0.8152\n",
            "Epoch [28], last_lr: 0.00268, train_loss: 0.1490, val_loss: 0.4720, val_acc: 0.8558\n",
            "Epoch [29], last_lr: 0.00226, train_loss: 0.1100, val_loss: 0.4997, val_acc: 0.8569\n",
            "Epoch [30], last_lr: 0.00187, train_loss: 0.0859, val_loss: 0.5482, val_acc: 0.8492\n",
            "Epoch [31], last_lr: 0.00151, train_loss: 0.0682, val_loss: 0.4700, val_acc: 0.8810\n",
            "Epoch [32], last_lr: 0.00117, train_loss: 0.0457, val_loss: 0.4955, val_acc: 0.8810\n",
            "Epoch [33], last_lr: 0.00087, train_loss: 0.0338, val_loss: 0.5375, val_acc: 0.8712\n",
            "Epoch [34], last_lr: 0.00061, train_loss: 0.0252, val_loss: 0.5836, val_acc: 0.8794\n",
            "Epoch [35], last_lr: 0.00040, train_loss: 0.0174, val_loss: 0.5794, val_acc: 0.8843\n",
            "Epoch [36], last_lr: 0.00022, train_loss: 0.0182, val_loss: 0.6160, val_acc: 0.8876\n",
            "Epoch [37], last_lr: 0.00010, train_loss: 0.0213, val_loss: 0.5502, val_acc: 0.8860\n",
            "Epoch [38], last_lr: 0.00003, train_loss: 0.0148, val_loss: 0.5637, val_acc: 0.8860\n"
          ],
          "name": "stdout"
        }
      ]
    },
    {
      "cell_type": "code",
      "metadata": {
        "id": "LEg29pRNvcWm"
      },
      "source": [
        "def plot_accuracies(history):\r\n",
        "    accuracies = [x['val_acc'] for x in history]\r\n",
        "    plt.plot(accuracies, '-x')\r\n",
        "    plt.xlabel('epoch')\r\n",
        "    plt.ylabel('accuracy')\r\n",
        "    plt.title('Accuracy vs. No. of epochs');\r\n",
        "def plot_losses(history):\r\n",
        "    train_losses = [x.get('train_loss') for x in history]\r\n",
        "    val_losses = [x['val_loss'] for x in history]\r\n",
        "    plt.plot(train_losses, '-bx')\r\n",
        "    plt.plot(val_losses, '-rx')\r\n",
        "    plt.xlabel('epoch')\r\n",
        "    plt.ylabel('loss')\r\n",
        "    plt.legend(['Training', 'Validation'])\r\n",
        "    plt.title('Loss vs. No. of epochs');"
      ],
      "execution_count": null,
      "outputs": []
    },
    {
      "cell_type": "code",
      "metadata": {
        "id": "yykaYUCPxkWC"
      },
      "source": [
        "plot_losses(history)"
      ],
      "execution_count": null,
      "outputs": []
    },
    {
      "cell_type": "code",
      "metadata": {
        "id": "9MQZ_K1wxoDi"
      },
      "source": [
        "plot_accuracies(history)"
      ],
      "execution_count": null,
      "outputs": []
    },
    {
      "cell_type": "code",
      "metadata": {
        "id": "SE4QVVWaxxM1"
      },
      "source": [
        "def plot_lrs(history):\r\n",
        "    lrs = np.concatenate([x.get('lrs', []) for x in history])\r\n",
        "    plt.plot(lrs)\r\n",
        "    plt.xlabel('Batch no.')\r\n",
        "    plt.ylabel('Learning rate')\r\n",
        "    plt.title('Learning Rate vs. Batch no.');\r\n",
        "plot_lrs(history)"
      ],
      "execution_count": null,
      "outputs": []
    },
    {
      "cell_type": "code",
      "metadata": {
        "id": "75l8DKwF-kEB"
      },
      "source": [
        "torch.save(model.state_dict(), 'project-resnet12-updated.pth')"
      ],
      "execution_count": null,
      "outputs": []
    },
    {
      "cell_type": "code",
      "metadata": {
        "id": "c32Dywkm-q8y"
      },
      "source": [
        "jovian.commit(project=project_name, environment=None, outputs=['project-resnet12-updated.pth'])"
      ],
      "execution_count": null,
      "outputs": []
    },
    {
      "cell_type": "code",
      "metadata": {
        "id": "2UTXxLiz-_Rp"
      },
      "source": [
        "# model2 = to_device(Cifar10CnnModel(), device)\r\n",
        "# model2.load_state_dict(torch.load('project-resnet9.pth'))"
      ],
      "execution_count": null,
      "outputs": []
    },
    {
      "cell_type": "code",
      "metadata": {
        "id": "17NgFClt2pWg"
      },
      "source": [
        "test"
      ],
      "execution_count": null,
      "outputs": []
    },
    {
      "cell_type": "code",
      "metadata": {
        "id": "Io1vbB1JLIT0"
      },
      "source": [
        "def predict_image(img, model):\r\n",
        "    # Convert to a batch of 1\r\n",
        "    xb = to_device(img.unsqueeze(0), device)\r\n",
        "    # Get predictions from model\r\n",
        "    yb = model(xb)\r\n",
        "    # Pick index with highest probability\r\n",
        "    _, preds  = torch.max(yb, dim=1)\r\n",
        "    # Retrieve the class label\r\n",
        "    return dataset.classes[preds[0].item()]"
      ],
      "execution_count": null,
      "outputs": []
    },
    {
      "cell_type": "code",
      "metadata": {
        "id": "kgWlypkFLw5-"
      },
      "source": [
        "dataset.classes"
      ],
      "execution_count": null,
      "outputs": []
    },
    {
      "cell_type": "code",
      "metadata": {
        "id": "Oe3sX8fVK8l6"
      },
      "source": [
        "%%time\r\n",
        "from PIL import Image\r\n",
        "test_images = []\r\n",
        "predictions = []\r\n",
        "for iter,i in enumerate(test[\"image\"]):\r\n",
        "  image = Image.open(data_dir+\"/test/\"+str(i),mode='r').convert('RGB')  \r\n",
        "  input = transformations(image)\r\n",
        "  pred = predict_image(input, model)\r\n",
        "  predictions.append(pred)"
      ],
      "execution_count": null,
      "outputs": []
    },
    {
      "cell_type": "code",
      "metadata": {
        "id": "qFwbZh0pEzEq"
      },
      "source": [
        "input.shape"
      ],
      "execution_count": null,
      "outputs": []
    },
    {
      "cell_type": "code",
      "metadata": {
        "id": "rvgyHXzq_kJJ"
      },
      "source": [
        "sub = pd.read_csv(\"/content/my-course-project/sample_submission_ns2btKE.csv\")"
      ],
      "execution_count": null,
      "outputs": []
    },
    {
      "cell_type": "code",
      "metadata": {
        "id": "Kp4nuAYMDWfX"
      },
      "source": [
        "sub[\"category\"] = predictions\r\n",
        "sub[\"category\"] = sub[\"category\"].astype(int)"
      ],
      "execution_count": null,
      "outputs": []
    },
    {
      "cell_type": "code",
      "metadata": {
        "id": "ivTc4Gm0DXKw"
      },
      "source": [
        "sub.to_csv(\"output.csv\",index=False)"
      ],
      "execution_count": null,
      "outputs": []
    },
    {
      "cell_type": "code",
      "metadata": {
        "id": "Kj8JRReLMWUJ"
      },
      "source": [
        "sub.category.value_counts(normalize=True)"
      ],
      "execution_count": null,
      "outputs": []
    },
    {
      "cell_type": "code",
      "metadata": {
        "id": "F2WOy6ZWDemC"
      },
      "source": [
        "train.category.value_counts(normalize=True)"
      ],
      "execution_count": null,
      "outputs": []
    },
    {
      "cell_type": "code",
      "metadata": {
        "id": "5GzMcX9-MZNf"
      },
      "source": [
        ""
      ],
      "execution_count": null,
      "outputs": []
    }
  ]
}