{
  "nbformat": 4,
  "nbformat_minor": 0,
  "metadata": {
    "colab": {
      "name": "02-insurance-linear-regression.ipynb",
      "provenance": [],
      "include_colab_link": true
    },
    "kernelspec": {
      "display_name": "Python 3",
      "language": "python",
      "name": "python3"
    },
    "language_info": {
      "codemirror_mode": {
        "name": "ipython",
        "version": 3
      },
      "file_extension": ".py",
      "mimetype": "text/x-python",
      "name": "python",
      "nbconvert_exporter": "python",
      "pygments_lexer": "ipython3",
      "version": "3.7.6"
    },
    "widgets": {
      "application/vnd.jupyter.widget-state+json": {
        "0d5a47fc578643a7ad1e2e1d9579a97e": {
          "model_module": "@jupyter-widgets/controls",
          "model_name": "HBoxModel",
          "state": {
            "_dom_classes": [],
            "_model_module": "@jupyter-widgets/controls",
            "_model_module_version": "1.5.0",
            "_model_name": "HBoxModel",
            "_view_count": null,
            "_view_module": "@jupyter-widgets/controls",
            "_view_module_version": "1.5.0",
            "_view_name": "HBoxView",
            "box_style": "",
            "children": [
              "IPY_MODEL_893d3160c36d48feb5412e08187d259f",
              "IPY_MODEL_7f2b026bac6a4c27a5f11f4762c521b5"
            ],
            "layout": "IPY_MODEL_d36d8db252134c398707e6f9eda82af5"
          }
        },
        "d36d8db252134c398707e6f9eda82af5": {
          "model_module": "@jupyter-widgets/base",
          "model_name": "LayoutModel",
          "state": {
            "_model_module": "@jupyter-widgets/base",
            "_model_module_version": "1.2.0",
            "_model_name": "LayoutModel",
            "_view_count": null,
            "_view_module": "@jupyter-widgets/base",
            "_view_module_version": "1.2.0",
            "_view_name": "LayoutView",
            "align_content": null,
            "align_items": null,
            "align_self": null,
            "border": null,
            "bottom": null,
            "display": null,
            "flex": null,
            "flex_flow": null,
            "grid_area": null,
            "grid_auto_columns": null,
            "grid_auto_flow": null,
            "grid_auto_rows": null,
            "grid_column": null,
            "grid_gap": null,
            "grid_row": null,
            "grid_template_areas": null,
            "grid_template_columns": null,
            "grid_template_rows": null,
            "height": null,
            "justify_content": null,
            "justify_items": null,
            "left": null,
            "margin": null,
            "max_height": null,
            "max_width": null,
            "min_height": null,
            "min_width": null,
            "object_fit": null,
            "object_position": null,
            "order": null,
            "overflow": null,
            "overflow_x": null,
            "overflow_y": null,
            "padding": null,
            "right": null,
            "top": null,
            "visibility": null,
            "width": null
          }
        },
        "893d3160c36d48feb5412e08187d259f": {
          "model_module": "@jupyter-widgets/controls",
          "model_name": "FloatProgressModel",
          "state": {
            "_dom_classes": [],
            "_model_module": "@jupyter-widgets/controls",
            "_model_module_version": "1.5.0",
            "_model_name": "FloatProgressModel",
            "_view_count": null,
            "_view_module": "@jupyter-widgets/controls",
            "_view_module_version": "1.5.0",
            "_view_name": "ProgressView",
            "bar_style": "info",
            "description": "",
            "description_tooltip": null,
            "layout": "IPY_MODEL_de587e3a0bb9415da3a09fc7321485e5",
            "max": 1,
            "min": 0,
            "orientation": "horizontal",
            "style": "IPY_MODEL_1b18900413c1487594006ad24eba1419",
            "value": 1
          }
        },
        "7f2b026bac6a4c27a5f11f4762c521b5": {
          "model_module": "@jupyter-widgets/controls",
          "model_name": "HTMLModel",
          "state": {
            "_dom_classes": [],
            "_model_module": "@jupyter-widgets/controls",
            "_model_module_version": "1.5.0",
            "_model_name": "HTMLModel",
            "_view_count": null,
            "_view_module": "@jupyter-widgets/controls",
            "_view_module_version": "1.5.0",
            "_view_name": "HTMLView",
            "description": "",
            "description_tooltip": null,
            "layout": "IPY_MODEL_07fb9f80280947bc85b1513aed4f9df3",
            "placeholder": "​",
            "style": "IPY_MODEL_8d1620df54d34eb1886857afa257f936",
            "value": " 57344/? [00:20&lt;00:00, 136020.67it/s]"
          }
        },
        "1b18900413c1487594006ad24eba1419": {
          "model_module": "@jupyter-widgets/controls",
          "model_name": "ProgressStyleModel",
          "state": {
            "_model_module": "@jupyter-widgets/controls",
            "_model_module_version": "1.5.0",
            "_model_name": "ProgressStyleModel",
            "_view_count": null,
            "_view_module": "@jupyter-widgets/base",
            "_view_module_version": "1.2.0",
            "_view_name": "StyleView",
            "bar_color": null,
            "description_width": "initial"
          }
        },
        "de587e3a0bb9415da3a09fc7321485e5": {
          "model_module": "@jupyter-widgets/base",
          "model_name": "LayoutModel",
          "state": {
            "_model_module": "@jupyter-widgets/base",
            "_model_module_version": "1.2.0",
            "_model_name": "LayoutModel",
            "_view_count": null,
            "_view_module": "@jupyter-widgets/base",
            "_view_module_version": "1.2.0",
            "_view_name": "LayoutView",
            "align_content": null,
            "align_items": null,
            "align_self": null,
            "border": null,
            "bottom": null,
            "display": null,
            "flex": null,
            "flex_flow": null,
            "grid_area": null,
            "grid_auto_columns": null,
            "grid_auto_flow": null,
            "grid_auto_rows": null,
            "grid_column": null,
            "grid_gap": null,
            "grid_row": null,
            "grid_template_areas": null,
            "grid_template_columns": null,
            "grid_template_rows": null,
            "height": null,
            "justify_content": null,
            "justify_items": null,
            "left": null,
            "margin": null,
            "max_height": null,
            "max_width": null,
            "min_height": null,
            "min_width": null,
            "object_fit": null,
            "object_position": null,
            "order": null,
            "overflow": null,
            "overflow_x": null,
            "overflow_y": null,
            "padding": null,
            "right": null,
            "top": null,
            "visibility": null,
            "width": null
          }
        },
        "8d1620df54d34eb1886857afa257f936": {
          "model_module": "@jupyter-widgets/controls",
          "model_name": "DescriptionStyleModel",
          "state": {
            "_model_module": "@jupyter-widgets/controls",
            "_model_module_version": "1.5.0",
            "_model_name": "DescriptionStyleModel",
            "_view_count": null,
            "_view_module": "@jupyter-widgets/base",
            "_view_module_version": "1.2.0",
            "_view_name": "StyleView",
            "description_width": ""
          }
        },
        "07fb9f80280947bc85b1513aed4f9df3": {
          "model_module": "@jupyter-widgets/base",
          "model_name": "LayoutModel",
          "state": {
            "_model_module": "@jupyter-widgets/base",
            "_model_module_version": "1.2.0",
            "_model_name": "LayoutModel",
            "_view_count": null,
            "_view_module": "@jupyter-widgets/base",
            "_view_module_version": "1.2.0",
            "_view_name": "LayoutView",
            "align_content": null,
            "align_items": null,
            "align_self": null,
            "border": null,
            "bottom": null,
            "display": null,
            "flex": null,
            "flex_flow": null,
            "grid_area": null,
            "grid_auto_columns": null,
            "grid_auto_flow": null,
            "grid_auto_rows": null,
            "grid_column": null,
            "grid_gap": null,
            "grid_row": null,
            "grid_template_areas": null,
            "grid_template_columns": null,
            "grid_template_rows": null,
            "height": null,
            "justify_content": null,
            "justify_items": null,
            "left": null,
            "margin": null,
            "max_height": null,
            "max_width": null,
            "min_height": null,
            "min_width": null,
            "object_fit": null,
            "object_position": null,
            "order": null,
            "overflow": null,
            "overflow_x": null,
            "overflow_y": null,
            "padding": null,
            "right": null,
            "top": null,
            "visibility": null,
            "width": null
          }
        }
      }
    }
  },
  "cells": [
    {
      "cell_type": "markdown",
      "metadata": {
        "id": "view-in-github",
        "colab_type": "text"
      },
      "source": [
        "<a href=\"https://colab.research.google.com/github/saikrithik/Jovian-Course-Pytorch-DeepLearning/blob/main/Assignment_02_insurance_linear_regression.ipynb\" target=\"_parent\"><img src=\"https://colab.research.google.com/assets/colab-badge.svg\" alt=\"Open In Colab\"/></a>"
      ]
    },
    {
      "cell_type": "code",
      "metadata": {
        "id": "n__SgSWTpLh4"
      },
      "source": [
        "# Jovian Commit Essentials\n",
        "# Please retain and execute this cell without modifying the contents for `jovian.commit` to work\n",
        "!pip install jovian --upgrade -q\n",
        "import jovian\n",
        "jovian.utils.colab.set_colab_file_id('1Tc9k6R4GLJovhBYobgTBlo5pDkMOtHOZ')"
      ],
      "execution_count": null,
      "outputs": []
    },
    {
      "cell_type": "markdown",
      "metadata": {
        "_cell_guid": "b1076dfc-b9ad-4769-8c92-a6c4dae69d19",
        "_uuid": "8f2839f25d086af736a60e9eeb907d3b93b6e0e5",
        "id": "-OdknIzaMdMM"
      },
      "source": [
        "# Insurance cost prediction using linear regression\n",
        "\n",
        "In this assignment we're going to use information like a person's age, sex, BMI, no. of children and smoking habit to predict the price of yearly medical bills. This kind of model is useful for insurance companies to determine the yearly insurance premium for a person. The dataset for this problem is taken from: https://www.kaggle.com/mirichoi0218/insurance\n",
        "\n",
        "\n",
        "We will create a model with the following steps:\n",
        "1. Download and explore the dataset\n",
        "2. Prepare the dataset for training\n",
        "3. Create a linear regression model\n",
        "4. Train the model to fit the data\n",
        "5. Make predictions using the trained model\n",
        "\n",
        "\n",
        "This assignment builds upon the concepts from the first 2 lectures. It will help to review these Jupyter notebooks:\n",
        "- PyTorch basics: https://jovian.ml/aakashns/01-pytorch-basics\n",
        "- Linear Regression: https://jovian.ml/aakashns/02-linear-regression\n",
        "- Logistic Regression: https://jovian.ml/aakashns/03-logistic-regression\n",
        "- Linear regression (minimal): https://jovian.ml/aakashns/housing-linear-minimal\n",
        "- Logistic regression (minimal): https://jovian.ml/aakashns/mnist-logistic-minimal\n",
        "\n",
        "As you go through this notebook, you will find a **???** in certain places. Your job is to replace the **???** with appropriate code or values, to ensure that the notebook runs properly end-to-end . In some cases, you'll be required to choose some hyperparameters (learning rate, batch size etc.). Try to experiment with the hypeparameters to get the lowest loss.\n"
      ]
    },
    {
      "cell_type": "code",
      "metadata": {
        "id": "GcZ0SWdeMdMM"
      },
      "source": [
        "# Uncomment and run the commands below if imports fail\n",
        "# !conda install numpy pytorch torchvision cpuonly -c pytorch -y\n",
        "# !pip install matplotlib --upgrade --quiet\n",
        "!pip install jovian --upgrade --quiet"
      ],
      "execution_count": null,
      "outputs": []
    },
    {
      "cell_type": "code",
      "metadata": {
        "id": "K4yTbqRBMdMM"
      },
      "source": [
        "import torch\n",
        "import jovian\n",
        "import torchvision\n",
        "import torch.nn as nn\n",
        "import pandas as pd\n",
        "import matplotlib.pyplot as plt\n",
        "import torch.nn.functional as F\n",
        "from torchvision.datasets.utils import download_url\n",
        "from torch.utils.data import DataLoader, TensorDataset, random_split"
      ],
      "execution_count": null,
      "outputs": []
    },
    {
      "cell_type": "code",
      "metadata": {
        "id": "AQZXwFkhMdMM"
      },
      "source": [
        "project_name='02-insurance-linear-regression' # will be used by jovian.commit"
      ],
      "execution_count": null,
      "outputs": []
    },
    {
      "cell_type": "markdown",
      "metadata": {
        "id": "B_jXI1PvMdMM"
      },
      "source": [
        "## Step 1: Download and explore the data\n",
        "\n",
        "Let us begin by downloading the data. We'll use the `download_url` function from PyTorch to get the data as a CSV (comma-separated values) file. "
      ]
    },
    {
      "cell_type": "code",
      "metadata": {
        "_cell_guid": "79c7e3d0-c299-4dcb-8224-4455121ee9b0",
        "_uuid": "d629ff2d2480ee46fbb7e2d37f6b5fab8052498a",
        "colab": {
          "base_uri": "https://localhost:8080/",
          "height": 66,
          "referenced_widgets": [
            "0d5a47fc578643a7ad1e2e1d9579a97e",
            "d36d8db252134c398707e6f9eda82af5",
            "893d3160c36d48feb5412e08187d259f",
            "7f2b026bac6a4c27a5f11f4762c521b5",
            "1b18900413c1487594006ad24eba1419",
            "de587e3a0bb9415da3a09fc7321485e5",
            "8d1620df54d34eb1886857afa257f936",
            "07fb9f80280947bc85b1513aed4f9df3"
          ]
        },
        "id": "3eQDqNXXMdMM",
        "outputId": "8bcd8954-1132-4374-f5b6-557442476988"
      },
      "source": [
        "DATASET_URL = \"https://hub.jovian.ml/wp-content/uploads/2020/05/insurance.csv\"\n",
        "DATA_FILENAME = \"insurance.csv\"\n",
        "download_url(DATASET_URL, '.')"
      ],
      "execution_count": null,
      "outputs": [
        {
          "output_type": "stream",
          "text": [
            "Downloading https://hub.jovian.ml/wp-content/uploads/2020/05/insurance.csv to ./insurance.csv\n"
          ],
          "name": "stdout"
        },
        {
          "output_type": "display_data",
          "data": {
            "application/vnd.jupyter.widget-view+json": {
              "model_id": "0d5a47fc578643a7ad1e2e1d9579a97e",
              "version_major": 2,
              "version_minor": 0
            },
            "text/plain": [
              "HBox(children=(FloatProgress(value=1.0, bar_style='info', max=1.0), HTML(value='')))"
            ]
          },
          "metadata": {
            "tags": []
          }
        }
      ]
    },
    {
      "cell_type": "markdown",
      "metadata": {
        "id": "15YcVAx7MdMP"
      },
      "source": [
        "To load the dataset into memory, we'll use the `read_csv` function from the `pandas` library. The data will be loaded as a Pandas dataframe. See this short tutorial to learn more: https://data36.com/pandas-tutorial-1-basics-reading-data-files-dataframes-data-selection/"
      ]
    },
    {
      "cell_type": "code",
      "metadata": {
        "colab": {
          "base_uri": "https://localhost:8080/",
          "height": 204
        },
        "id": "RmNQOJDLMdMP",
        "outputId": "47d3634f-175a-4586-9d54-299b753c6210"
      },
      "source": [
        "dataframe_raw = pd.read_csv(DATA_FILENAME)\n",
        "dataframe_raw.head()"
      ],
      "execution_count": null,
      "outputs": [
        {
          "output_type": "execute_result",
          "data": {
            "text/html": [
              "<div>\n",
              "<style scoped>\n",
              "    .dataframe tbody tr th:only-of-type {\n",
              "        vertical-align: middle;\n",
              "    }\n",
              "\n",
              "    .dataframe tbody tr th {\n",
              "        vertical-align: top;\n",
              "    }\n",
              "\n",
              "    .dataframe thead th {\n",
              "        text-align: right;\n",
              "    }\n",
              "</style>\n",
              "<table border=\"1\" class=\"dataframe\">\n",
              "  <thead>\n",
              "    <tr style=\"text-align: right;\">\n",
              "      <th></th>\n",
              "      <th>age</th>\n",
              "      <th>sex</th>\n",
              "      <th>bmi</th>\n",
              "      <th>children</th>\n",
              "      <th>smoker</th>\n",
              "      <th>region</th>\n",
              "      <th>charges</th>\n",
              "    </tr>\n",
              "  </thead>\n",
              "  <tbody>\n",
              "    <tr>\n",
              "      <th>0</th>\n",
              "      <td>19</td>\n",
              "      <td>female</td>\n",
              "      <td>27.900</td>\n",
              "      <td>0</td>\n",
              "      <td>yes</td>\n",
              "      <td>southwest</td>\n",
              "      <td>16884.92400</td>\n",
              "    </tr>\n",
              "    <tr>\n",
              "      <th>1</th>\n",
              "      <td>18</td>\n",
              "      <td>male</td>\n",
              "      <td>33.770</td>\n",
              "      <td>1</td>\n",
              "      <td>no</td>\n",
              "      <td>southeast</td>\n",
              "      <td>1725.55230</td>\n",
              "    </tr>\n",
              "    <tr>\n",
              "      <th>2</th>\n",
              "      <td>28</td>\n",
              "      <td>male</td>\n",
              "      <td>33.000</td>\n",
              "      <td>3</td>\n",
              "      <td>no</td>\n",
              "      <td>southeast</td>\n",
              "      <td>4449.46200</td>\n",
              "    </tr>\n",
              "    <tr>\n",
              "      <th>3</th>\n",
              "      <td>33</td>\n",
              "      <td>male</td>\n",
              "      <td>22.705</td>\n",
              "      <td>0</td>\n",
              "      <td>no</td>\n",
              "      <td>northwest</td>\n",
              "      <td>21984.47061</td>\n",
              "    </tr>\n",
              "    <tr>\n",
              "      <th>4</th>\n",
              "      <td>32</td>\n",
              "      <td>male</td>\n",
              "      <td>28.880</td>\n",
              "      <td>0</td>\n",
              "      <td>no</td>\n",
              "      <td>northwest</td>\n",
              "      <td>3866.85520</td>\n",
              "    </tr>\n",
              "  </tbody>\n",
              "</table>\n",
              "</div>"
            ],
            "text/plain": [
              "   age     sex     bmi  children smoker     region      charges\n",
              "0   19  female  27.900         0    yes  southwest  16884.92400\n",
              "1   18    male  33.770         1     no  southeast   1725.55230\n",
              "2   28    male  33.000         3     no  southeast   4449.46200\n",
              "3   33    male  22.705         0     no  northwest  21984.47061\n",
              "4   32    male  28.880         0     no  northwest   3866.85520"
            ]
          },
          "metadata": {
            "tags": []
          },
          "execution_count": 6
        }
      ]
    },
    {
      "cell_type": "markdown",
      "metadata": {
        "id": "SlKIWqkyMdMR"
      },
      "source": [
        "We're going to do a slight customization of the data, so that you every participant receives a slightly different version of the dataset. Fill in your name below as a string (enter at least 5 characters)"
      ]
    },
    {
      "cell_type": "code",
      "metadata": {
        "id": "i8Mg6p6oMdMR"
      },
      "source": [
        "your_name = \"krithik\" # at least 5 characters"
      ],
      "execution_count": null,
      "outputs": []
    },
    {
      "cell_type": "markdown",
      "metadata": {
        "id": "zWDxQDfuMdMR"
      },
      "source": [
        "The `customize_dataset` function will customize the dataset slightly using your name as a source of random numbers."
      ]
    },
    {
      "cell_type": "code",
      "metadata": {
        "id": "XQIeBc0YMdMR"
      },
      "source": [
        "def customize_dataset(dataframe_raw, rand_str):\n",
        "    dataframe = dataframe_raw.copy(deep=True)\n",
        "    # drop some rows\n",
        "    dataframe = dataframe.sample(int(0.95*len(dataframe)), random_state=int(ord(rand_str[0])))\n",
        "    # scale input\n",
        "    dataframe.bmi = dataframe.bmi * ord(rand_str[1])/100.\n",
        "    # scale target\n",
        "    dataframe.charges = dataframe.charges * ord(rand_str[2])/100.\n",
        "    # drop column\n",
        "    if ord(rand_str[3]) % 2 == 1:\n",
        "        dataframe = dataframe.drop(['region'], axis=1)\n",
        "    return dataframe"
      ],
      "execution_count": null,
      "outputs": []
    },
    {
      "cell_type": "code",
      "metadata": {
        "colab": {
          "base_uri": "https://localhost:8080/",
          "height": 204
        },
        "id": "uA8OVplqMdMR",
        "outputId": "a96236c3-adae-4995-9251-4487670df249"
      },
      "source": [
        "dataframe = customize_dataset(dataframe_raw, your_name)\n",
        "dataframe.head()"
      ],
      "execution_count": null,
      "outputs": [
        {
          "output_type": "execute_result",
          "data": {
            "text/html": [
              "<div>\n",
              "<style scoped>\n",
              "    .dataframe tbody tr th:only-of-type {\n",
              "        vertical-align: middle;\n",
              "    }\n",
              "\n",
              "    .dataframe tbody tr th {\n",
              "        vertical-align: top;\n",
              "    }\n",
              "\n",
              "    .dataframe thead th {\n",
              "        text-align: right;\n",
              "    }\n",
              "</style>\n",
              "<table border=\"1\" class=\"dataframe\">\n",
              "  <thead>\n",
              "    <tr style=\"text-align: right;\">\n",
              "      <th></th>\n",
              "      <th>age</th>\n",
              "      <th>sex</th>\n",
              "      <th>bmi</th>\n",
              "      <th>children</th>\n",
              "      <th>smoker</th>\n",
              "      <th>region</th>\n",
              "      <th>charges</th>\n",
              "    </tr>\n",
              "  </thead>\n",
              "  <tbody>\n",
              "    <tr>\n",
              "      <th>1232</th>\n",
              "      <td>54</td>\n",
              "      <td>female</td>\n",
              "      <td>28.0497</td>\n",
              "      <td>3</td>\n",
              "      <td>no</td>\n",
              "      <td>northwest</td>\n",
              "      <td>13103.694397</td>\n",
              "    </tr>\n",
              "    <tr>\n",
              "      <th>597</th>\n",
              "      <td>34</td>\n",
              "      <td>female</td>\n",
              "      <td>37.9050</td>\n",
              "      <td>1</td>\n",
              "      <td>no</td>\n",
              "      <td>northeast</td>\n",
              "      <td>5874.587775</td>\n",
              "    </tr>\n",
              "    <tr>\n",
              "      <th>351</th>\n",
              "      <td>50</td>\n",
              "      <td>female</td>\n",
              "      <td>29.1840</td>\n",
              "      <td>0</td>\n",
              "      <td>no</td>\n",
              "      <td>southwest</td>\n",
              "      <td>9378.688200</td>\n",
              "    </tr>\n",
              "    <tr>\n",
              "      <th>530</th>\n",
              "      <td>57</td>\n",
              "      <td>male</td>\n",
              "      <td>48.0282</td>\n",
              "      <td>1</td>\n",
              "      <td>yes</td>\n",
              "      <td>southeast</td>\n",
              "      <td>51109.293585</td>\n",
              "    </tr>\n",
              "    <tr>\n",
              "      <th>960</th>\n",
              "      <td>19</td>\n",
              "      <td>female</td>\n",
              "      <td>45.1611</td>\n",
              "      <td>1</td>\n",
              "      <td>no</td>\n",
              "      <td>northwest</td>\n",
              "      <td>2866.613243</td>\n",
              "    </tr>\n",
              "  </tbody>\n",
              "</table>\n",
              "</div>"
            ],
            "text/plain": [
              "      age     sex      bmi  children smoker     region       charges\n",
              "1232   54  female  28.0497         3     no  northwest  13103.694397\n",
              "597    34  female  37.9050         1     no  northeast   5874.587775\n",
              "351    50  female  29.1840         0     no  southwest   9378.688200\n",
              "530    57    male  48.0282         1    yes  southeast  51109.293585\n",
              "960    19  female  45.1611         1     no  northwest   2866.613243"
            ]
          },
          "metadata": {
            "tags": []
          },
          "execution_count": 9
        }
      ]
    },
    {
      "cell_type": "markdown",
      "metadata": {
        "id": "WULjCQ1hMdMR"
      },
      "source": [
        "Let us answer some basic questions about the dataset. \n",
        "\n",
        "\n",
        "**Q: How many rows does the dataset have?**"
      ]
    },
    {
      "cell_type": "code",
      "metadata": {
        "colab": {
          "base_uri": "https://localhost:8080/"
        },
        "id": "Yn5FlBEbMdMR",
        "outputId": "a5b18634-4b57-45d5-de93-71c7ea64b1c7"
      },
      "source": [
        "dataframe.shape"
      ],
      "execution_count": null,
      "outputs": [
        {
          "output_type": "execute_result",
          "data": {
            "text/plain": [
              "(1271, 7)"
            ]
          },
          "metadata": {
            "tags": []
          },
          "execution_count": 10
        }
      ]
    },
    {
      "cell_type": "code",
      "metadata": {
        "colab": {
          "base_uri": "https://localhost:8080/"
        },
        "id": "dl9zHQIdMdMS",
        "outputId": "5a5c03ab-d4f6-4a15-9cc7-c9b281a254a8"
      },
      "source": [
        "num_rows = 1271\n",
        "print(num_rows)"
      ],
      "execution_count": null,
      "outputs": [
        {
          "output_type": "stream",
          "text": [
            "1271\n"
          ],
          "name": "stdout"
        }
      ]
    },
    {
      "cell_type": "markdown",
      "metadata": {
        "id": "XzRoV_tZMdMS"
      },
      "source": [
        "**Q: How many columns doe the dataset have**"
      ]
    },
    {
      "cell_type": "code",
      "metadata": {
        "colab": {
          "base_uri": "https://localhost:8080/"
        },
        "id": "W6rd_FHoMdMS",
        "outputId": "90ce1c97-5b70-40b5-e465-3b0bdd4e2e91"
      },
      "source": [
        "num_cols = 7\n",
        "print(num_cols)"
      ],
      "execution_count": null,
      "outputs": [
        {
          "output_type": "stream",
          "text": [
            "7\n"
          ],
          "name": "stdout"
        }
      ]
    },
    {
      "cell_type": "markdown",
      "metadata": {
        "id": "_U26c0aKMdMS"
      },
      "source": [
        "**Q: What are the column titles of the input variables?**"
      ]
    },
    {
      "cell_type": "code",
      "metadata": {
        "colab": {
          "base_uri": "https://localhost:8080/"
        },
        "id": "Y57fCJDVMdMS",
        "outputId": "1368e681-8c04-4a51-a328-eb8b38f09b43"
      },
      "source": [
        "input_cols = dataframe.drop(\"charges\",axis=1).columns\n",
        "input_cols"
      ],
      "execution_count": null,
      "outputs": [
        {
          "output_type": "execute_result",
          "data": {
            "text/plain": [
              "Index(['age', 'sex', 'bmi', 'children', 'smoker', 'region'], dtype='object')"
            ]
          },
          "metadata": {
            "tags": []
          },
          "execution_count": 13
        }
      ]
    },
    {
      "cell_type": "markdown",
      "metadata": {
        "id": "hD4DgeoNMdMT"
      },
      "source": [
        "**Q: Which of the input columns are non-numeric or categorial variables ?**\n",
        "\n",
        "Hint: `sex` is one of them. List the columns that are not numbers."
      ]
    },
    {
      "cell_type": "code",
      "metadata": {
        "colab": {
          "base_uri": "https://localhost:8080/"
        },
        "id": "Hb3vV742MdMT",
        "outputId": "1a5f8f64-8432-4af2-ec52-feac0668c25e"
      },
      "source": [
        "categorical_cols = [x for x in dataframe.columns if type(dataframe[x][1]) == str ]\n",
        "categorical_cols"
      ],
      "execution_count": null,
      "outputs": [
        {
          "output_type": "execute_result",
          "data": {
            "text/plain": [
              "['sex', 'smoker', 'region']"
            ]
          },
          "metadata": {
            "tags": []
          },
          "execution_count": 14
        }
      ]
    },
    {
      "cell_type": "markdown",
      "metadata": {
        "id": "6nv-eiarMdMT"
      },
      "source": [
        "**Q: What are the column titles of output/target variable(s)?**"
      ]
    },
    {
      "cell_type": "code",
      "metadata": {
        "colab": {
          "base_uri": "https://localhost:8080/"
        },
        "id": "MF_vO34rMdMT",
        "outputId": "30535568-12c1-422f-b3a5-269ac78571f6"
      },
      "source": [
        "output_cols = [dataframe[\"charges\"].name]\n",
        "output_cols"
      ],
      "execution_count": null,
      "outputs": [
        {
          "output_type": "execute_result",
          "data": {
            "text/plain": [
              "['charges']"
            ]
          },
          "metadata": {
            "tags": []
          },
          "execution_count": 15
        }
      ]
    },
    {
      "cell_type": "markdown",
      "metadata": {
        "id": "Dkkag0kaMdMT"
      },
      "source": [
        "**Q: (Optional) What is the minimum, maximum and average value of the `charges` column? Can you show the distribution of values in a graph?**\n",
        "Use this data visualization cheatsheet for referece: https://jovian.ml/aakashns/dataviz-cheatsheet"
      ]
    },
    {
      "cell_type": "code",
      "metadata": {
        "id": "YCWfvfRLMdMT"
      },
      "source": [
        "# Write your answer here"
      ],
      "execution_count": null,
      "outputs": []
    },
    {
      "cell_type": "markdown",
      "metadata": {
        "id": "XY7t2ErPMdMT"
      },
      "source": [
        "Remember to commit your notebook to Jovian after every step, so that you don't lose your work."
      ]
    },
    {
      "cell_type": "code",
      "metadata": {
        "colab": {
          "base_uri": "https://localhost:8080/",
          "height": 120
        },
        "id": "AMsZCnXCMdMT",
        "outputId": "7d9257d0-0ea4-422a-893b-3d1e03b10ab6"
      },
      "source": [
        "jovian.commit(project=project_name, environment=None)"
      ],
      "execution_count": null,
      "outputs": [
        {
          "output_type": "stream",
          "text": [
            "[jovian] Detected Colab notebook...\u001b[0m\n",
            "[jovian] Please enter your API key ( from https://jovian.ai/ ):\u001b[0m\n",
            "API KEY: ··········\n",
            "[jovian] Uploading colab notebook to Jovian...\u001b[0m\n",
            "[jovian] Committed successfully! https://jovian.ai/saikrithik/02-insurance-linear-regression\u001b[0m\n"
          ],
          "name": "stdout"
        },
        {
          "output_type": "execute_result",
          "data": {
            "application/vnd.google.colaboratory.intrinsic+json": {
              "type": "string"
            },
            "text/plain": [
              "'https://jovian.ai/saikrithik/02-insurance-linear-regression'"
            ]
          },
          "metadata": {
            "tags": []
          },
          "execution_count": 17
        }
      ]
    },
    {
      "cell_type": "markdown",
      "metadata": {
        "id": "d7UHhd7TMdMU"
      },
      "source": [
        "## Step 2: Prepare the dataset for training\n",
        "\n",
        "We need to convert the data from the Pandas dataframe into a PyTorch tensors for training. To do this, the first step is to convert it numpy arrays. If you've filled out `input_cols`, `categorial_cols` and `output_cols` correctly, this following function will perform the conversion to numpy arrays."
      ]
    },
    {
      "cell_type": "code",
      "metadata": {
        "id": "srhtqPAwMdMU"
      },
      "source": [
        "def dataframe_to_arrays(dataframe):\n",
        "    # Make a copy of the original dataframe\n",
        "    dataframe1 = dataframe.copy(deep=True)\n",
        "    # Convert non-numeric categorical columns to numbers\n",
        "    for col in categorical_cols:\n",
        "        dataframe1[col] = dataframe1[col].astype('category').cat.codes\n",
        "    # Extract input & outupts as numpy arrays\n",
        "    inputs_array = dataframe1[input_cols].to_numpy()\n",
        "    targets_array = dataframe1[output_cols].to_numpy()\n",
        "    return inputs_array, targets_array"
      ],
      "execution_count": null,
      "outputs": []
    },
    {
      "cell_type": "markdown",
      "metadata": {
        "id": "WIssFWETMdMU"
      },
      "source": [
        "Read through the [Pandas documentation](https://pandas.pydata.org/pandas-docs/stable/user_guide/categorical.html) to understand how we're converting categorical variables into numbers."
      ]
    },
    {
      "cell_type": "code",
      "metadata": {
        "colab": {
          "base_uri": "https://localhost:8080/"
        },
        "id": "pHkqoZAqMdMU",
        "outputId": "a08987f8-790e-4e6d-bd26-6d2f1adc0552"
      },
      "source": [
        "inputs_array, targets_array = dataframe_to_arrays(dataframe)\n",
        "inputs_array, targets_array"
      ],
      "execution_count": null,
      "outputs": [
        {
          "output_type": "execute_result",
          "data": {
            "text/plain": [
              "(array([[54.    ,  0.    , 28.0497,  3.    ,  0.    ,  1.    ],\n",
              "        [34.    ,  0.    , 37.905 ,  1.    ,  0.    ,  0.    ],\n",
              "        [50.    ,  0.    , 29.184 ,  0.    ,  0.    ,  3.    ],\n",
              "        ...,\n",
              "        [39.    ,  0.    , 36.3888,  2.    ,  0.    ,  1.    ],\n",
              "        [57.    ,  1.    , 45.9192,  0.    ,  0.    ,  0.    ],\n",
              "        [53.    ,  1.    , 35.5224,  1.    ,  0.    ,  1.    ]]),\n",
              " array([[13103.6943975],\n",
              "        [ 5874.587775 ],\n",
              "        [ 9378.6882   ],\n",
              "        ...,\n",
              "        [ 7569.96639  ],\n",
              "        [21744.471357 ],\n",
              "        [10985.07837  ]]))"
            ]
          },
          "metadata": {
            "tags": []
          },
          "execution_count": 19
        }
      ]
    },
    {
      "cell_type": "markdown",
      "metadata": {
        "id": "Yz2Kp39RMdMU"
      },
      "source": [
        "**Q: Convert the numpy arrays `inputs_array` and `targets_array` into PyTorch tensors. Make sure that the data type is `torch.float32`.**"
      ]
    },
    {
      "cell_type": "code",
      "metadata": {
        "colab": {
          "base_uri": "https://localhost:8080/"
        },
        "id": "B2nZgqoTMdMU",
        "outputId": "2c54133b-516c-4f0e-8c34-3c73b9b5d7b9"
      },
      "source": [
        "inputs = torch.from_numpy(inputs_array).type(torch.float32)\n",
        "targets = torch.from_numpy(targets_array).type(torch.float32)\n",
        "inputs, targets"
      ],
      "execution_count": null,
      "outputs": [
        {
          "output_type": "execute_result",
          "data": {
            "text/plain": [
              "(tensor([[54.0000,  0.0000, 28.0497,  3.0000,  0.0000,  1.0000],\n",
              "         [34.0000,  0.0000, 37.9050,  1.0000,  0.0000,  0.0000],\n",
              "         [50.0000,  0.0000, 29.1840,  0.0000,  0.0000,  3.0000],\n",
              "         ...,\n",
              "         [39.0000,  0.0000, 36.3888,  2.0000,  0.0000,  1.0000],\n",
              "         [57.0000,  1.0000, 45.9192,  0.0000,  0.0000,  0.0000],\n",
              "         [53.0000,  1.0000, 35.5224,  1.0000,  0.0000,  1.0000]]),\n",
              " tensor([[13103.6943],\n",
              "         [ 5874.5879],\n",
              "         [ 9378.6885],\n",
              "         ...,\n",
              "         [ 7569.9663],\n",
              "         [21744.4707],\n",
              "         [10985.0781]]))"
            ]
          },
          "metadata": {
            "tags": []
          },
          "execution_count": 20
        }
      ]
    },
    {
      "cell_type": "code",
      "metadata": {
        "colab": {
          "base_uri": "https://localhost:8080/"
        },
        "id": "MkfRG3eWMdMU",
        "outputId": "83e36418-5ae2-4bc2-8edf-c88d5b39e9b5"
      },
      "source": [
        "inputs.dtype, targets.dtype"
      ],
      "execution_count": null,
      "outputs": [
        {
          "output_type": "execute_result",
          "data": {
            "text/plain": [
              "(torch.float32, torch.float32)"
            ]
          },
          "metadata": {
            "tags": []
          },
          "execution_count": 21
        }
      ]
    },
    {
      "cell_type": "markdown",
      "metadata": {
        "id": "IHHaPbQ7MdMU"
      },
      "source": [
        "Next, we need to create PyTorch datasets & data loaders for training & validation. We'll start by creating a `TensorDataset`."
      ]
    },
    {
      "cell_type": "code",
      "metadata": {
        "id": "WJyZEJyBMdMU"
      },
      "source": [
        "dataset = TensorDataset(inputs, targets)"
      ],
      "execution_count": null,
      "outputs": []
    },
    {
      "cell_type": "markdown",
      "metadata": {
        "id": "vTvZ6MgBMdMV"
      },
      "source": [
        "**Q: Pick a number between `0.1` and `0.2` to determine the fraction of data that will be used for creating the validation set. Then use `random_split` to create training & validation datasets. **"
      ]
    },
    {
      "cell_type": "code",
      "metadata": {
        "id": "wqsKBNkVMdMV"
      },
      "source": [
        "val_percent = 0.2 # between 0.1 and 0.2\n",
        "val_size = int(num_rows * val_percent)\n",
        "train_size = num_rows - val_size\n",
        "\n",
        "\n",
        "train_ds, val_ds = random_split(dataset, [train_size, val_size]) # Use the random_split function to split dataset into 2 parts of the desired length"
      ],
      "execution_count": null,
      "outputs": []
    },
    {
      "cell_type": "markdown",
      "metadata": {
        "id": "di6l92rhMdMV"
      },
      "source": [
        "Finally, we can create data loaders for training & validation.\n",
        "\n",
        "**Q: Pick a batch size for the data loader.**"
      ]
    },
    {
      "cell_type": "code",
      "metadata": {
        "id": "TafgJmy3MdMV"
      },
      "source": [
        "batch_size = 64"
      ],
      "execution_count": null,
      "outputs": []
    },
    {
      "cell_type": "code",
      "metadata": {
        "id": "zft2OibCMdMV"
      },
      "source": [
        "train_loader = DataLoader(train_ds, batch_size, shuffle=True)\n",
        "val_loader = DataLoader(val_ds, batch_size)"
      ],
      "execution_count": null,
      "outputs": []
    },
    {
      "cell_type": "code",
      "metadata": {
        "id": "_E3y2UKYMdMV"
      },
      "source": [
        ""
      ],
      "execution_count": null,
      "outputs": []
    },
    {
      "cell_type": "markdown",
      "metadata": {
        "id": "YboZ2McGMdMV"
      },
      "source": [
        "Let's look at a batch of data to verify everything is working fine so far."
      ]
    },
    {
      "cell_type": "code",
      "metadata": {
        "colab": {
          "base_uri": "https://localhost:8080/"
        },
        "id": "ykY2mD81MdMV",
        "outputId": "c03dbe05-a480-4d07-c183-0464311b34a0"
      },
      "source": [
        "for xb, yb in train_loader:\n",
        "    print(\"inputs:\", xb)\n",
        "    print(\"targets:\", yb)\n",
        "    break"
      ],
      "execution_count": null,
      "outputs": [
        {
          "output_type": "stream",
          "text": [
            "inputs: tensor([[25.0000,  1.0000, 40.6125,  0.0000,  0.0000,  1.0000],\n",
            "        [50.0000,  0.0000, 32.0568,  3.0000,  0.0000,  1.0000],\n",
            "        [50.0000,  1.0000, 28.8420,  0.0000,  0.0000,  2.0000],\n",
            "        [31.0000,  1.0000, 32.5983,  1.0000,  0.0000,  1.0000],\n",
            "        [28.0000,  0.0000, 31.3500,  2.0000,  0.0000,  3.0000],\n",
            "        [27.0000,  0.0000, 35.7960,  0.0000,  1.0000,  3.0000],\n",
            "        [19.0000,  1.0000, 39.2160,  0.0000,  0.0000,  3.0000],\n",
            "        [27.0000,  1.0000, 48.0282,  0.0000,  1.0000,  2.0000],\n",
            "        [57.0000,  1.0000, 31.8516,  1.0000,  0.0000,  2.0000],\n",
            "        [46.0000,  1.0000, 44.9445,  1.0000,  0.0000,  0.0000],\n",
            "        [64.0000,  0.0000, 35.6820,  2.0000,  1.0000,  3.0000],\n",
            "        [32.0000,  1.0000, 38.5548,  1.0000,  0.0000,  1.0000],\n",
            "        [18.0000,  1.0000, 49.0314,  0.0000,  0.0000,  2.0000],\n",
            "        [22.0000,  1.0000, 38.4978,  0.0000,  0.0000,  2.0000],\n",
            "        [63.0000,  0.0000, 31.6236,  0.0000,  1.0000,  0.0000],\n",
            "        [19.0000,  1.0000, 31.4640,  0.0000,  0.0000,  3.0000],\n",
            "        [26.0000,  1.0000, 23.7120,  0.0000,  0.0000,  3.0000],\n",
            "        [55.0000,  0.0000, 33.8580,  2.0000,  0.0000,  3.0000],\n",
            "        [45.0000,  1.0000, 26.1003,  0.0000,  1.0000,  0.0000],\n",
            "        [41.0000,  0.0000, 37.7967,  3.0000,  0.0000,  0.0000],\n",
            "        [19.0000,  0.0000, 23.4840,  0.0000,  0.0000,  3.0000],\n",
            "        [23.0000,  0.0000, 32.4786,  1.0000,  1.0000,  2.0000],\n",
            "        [41.0000,  1.0000, 24.8292,  1.0000,  0.0000,  2.0000],\n",
            "        [25.0000,  1.0000, 38.3724,  4.0000,  0.0000,  2.0000],\n",
            "        [43.0000,  1.0000, 26.4480,  0.0000,  0.0000,  3.0000],\n",
            "        [28.0000,  1.0000, 30.7572,  2.0000,  0.0000,  0.0000],\n",
            "        [61.0000,  0.0000, 25.1256,  0.0000,  0.0000,  0.0000],\n",
            "        [33.0000,  0.0000, 27.7134,  0.0000,  0.0000,  2.0000],\n",
            "        [20.0000,  1.0000, 40.2534,  1.0000,  0.0000,  2.0000],\n",
            "        [23.0000,  1.0000, 31.1904,  1.0000,  0.0000,  1.0000],\n",
            "        [50.0000,  1.0000, 36.7137,  0.0000,  0.0000,  1.0000],\n",
            "        [51.0000,  1.0000, 34.2342,  1.0000,  0.0000,  2.0000],\n",
            "        [52.0000,  0.0000, 35.5680,  0.0000,  0.0000,  3.0000],\n",
            "        [47.0000,  0.0000, 33.4818,  1.0000,  0.0000,  2.0000],\n",
            "        [25.0000,  1.0000, 27.2460,  5.0000,  0.0000,  3.0000],\n",
            "        [24.0000,  1.0000, 34.0062,  0.0000,  1.0000,  0.0000],\n",
            "        [61.0000,  1.0000, 40.8804,  0.0000,  1.0000,  2.0000],\n",
            "        [39.0000,  1.0000, 30.1074,  0.0000,  1.0000,  0.0000],\n",
            "        [22.0000,  0.0000, 32.8548,  0.0000,  0.0000,  2.0000],\n",
            "        [52.0000,  1.0000, 37.9050,  0.0000,  0.0000,  0.0000],\n",
            "        [45.0000,  1.0000, 34.6104,  0.0000,  1.0000,  2.0000],\n",
            "        [22.0000,  0.0000, 35.3628,  3.0000,  1.0000,  2.0000],\n",
            "        [24.0000,  0.0000, 23.3928,  0.0000,  1.0000,  0.0000],\n",
            "        [41.0000,  0.0000, 36.7080,  1.0000,  0.0000,  3.0000],\n",
            "        [48.0000,  0.0000, 25.9920,  0.0000,  0.0000,  3.0000],\n",
            "        [55.0000,  0.0000, 34.7700,  0.0000,  0.0000,  3.0000],\n",
            "        [48.0000,  1.0000, 40.6125,  4.0000,  0.0000,  0.0000],\n",
            "        [30.0000,  0.0000, 35.2260,  3.0000,  0.0000,  3.0000],\n",
            "        [58.0000,  0.0000, 37.5801,  0.0000,  0.0000,  0.0000],\n",
            "        [18.0000,  0.0000, 35.7390,  0.0000,  0.0000,  2.0000],\n",
            "        [60.0000,  0.0000, 41.0457,  0.0000,  0.0000,  0.0000],\n",
            "        [44.0000,  1.0000, 42.2940,  2.0000,  0.0000,  3.0000],\n",
            "        [35.0000,  1.0000, 39.1248,  3.0000,  0.0000,  2.0000],\n",
            "        [47.0000,  0.0000, 41.7582,  1.0000,  1.0000,  2.0000],\n",
            "        [61.0000,  0.0000, 41.4789,  1.0000,  1.0000,  0.0000],\n",
            "        [26.0000,  0.0000, 33.7896,  4.0000,  0.0000,  0.0000],\n",
            "        [41.0000,  1.0000, 35.0892,  3.0000,  1.0000,  0.0000],\n",
            "        [26.0000,  0.0000, 48.3360,  1.0000,  0.0000,  3.0000],\n",
            "        [45.0000,  0.0000, 36.2406,  0.0000,  0.0000,  2.0000],\n",
            "        [21.0000,  0.0000, 45.0186,  0.0000,  0.0000,  2.0000],\n",
            "        [52.0000,  0.0000, 42.6360,  0.0000,  0.0000,  3.0000],\n",
            "        [45.0000,  0.0000, 43.6449,  0.0000,  0.0000,  0.0000],\n",
            "        [53.0000,  1.0000, 27.7248,  0.0000,  0.0000,  1.0000],\n",
            "        [64.0000,  1.0000, 30.1074,  0.0000,  0.0000,  0.0000]])\n",
            "targets: tensor([[ 2661.1135],\n",
            "        [11639.8662],\n",
            "        [ 8864.8008],\n",
            "        [ 4455.7695],\n",
            "        [21186.5547],\n",
            "        [36580.8164],\n",
            "        [ 1324.9519],\n",
            "        [41592.3438],\n",
            "        [12131.9346],\n",
            "        [ 8760.0537],\n",
            "        [49655.6094],\n",
            "        [ 4685.8579],\n",
            "        [ 1206.8657],\n",
            "        [ 1758.3639],\n",
            "        [30999.3242],\n",
            "        [ 1315.0273],\n",
            "        [ 2417.4150],\n",
            "        [12475.4258],\n",
            "        [36822.8438],\n",
            "        [ 8965.2031],\n",
            "        [ 1818.2609],\n",
            "        [19244.6504],\n",
            "        [ 6586.1011],\n",
            "        [ 4729.8955],\n",
            "        [ 6562.9565],\n",
            "        [ 4656.8491],\n",
            "        [14297.1768],\n",
            "        [ 4394.3530],\n",
            "        [29110.5039],\n",
            "        [ 2928.5103],\n",
            "        [ 9277.0283],\n",
            "        [ 9846.7998],\n",
            "        [10107.2158],\n",
            "        [ 8975.0762],\n",
            "        [ 5334.1006],\n",
            "        [19580.8438],\n",
            "        [48929.0625],\n",
            "        [21156.7891],\n",
            "        [ 2264.5894],\n",
            "        [10208.9082],\n",
            "        [65722.5156],\n",
            "        [37375.3711],\n",
            "        [15300.4854],\n",
            "        [ 7114.7593],\n",
            "        [ 8682.4961],\n",
            "        [11239.6934],\n",
            "        [11273.7139],\n",
            "        [ 5591.9336],\n",
            "        [13052.5010],\n",
            "        [ 1703.2980],\n",
            "        [13890.2891],\n",
            "        [ 8127.3540],\n",
            "        [ 6231.0986],\n",
            "        [45118.3438],\n",
            "        [50943.4414],\n",
            "        [25905.2461],\n",
            "        [41577.2773],\n",
            "        [ 3580.8401],\n",
            "        [18825.7676],\n",
            "        [ 2128.3228],\n",
            "        [10116.2646],\n",
            "        [ 8332.0557],\n",
            "        [10356.6455],\n",
            "        [15114.2861]])\n"
          ],
          "name": "stdout"
        }
      ]
    },
    {
      "cell_type": "markdown",
      "metadata": {
        "id": "N6xY2N0vMdMV"
      },
      "source": [
        "Let's save our work by committing to Jovian."
      ]
    },
    {
      "cell_type": "code",
      "metadata": {
        "colab": {
          "base_uri": "https://localhost:8080/",
          "height": 103
        },
        "id": "PiV9PbGYMdMV",
        "outputId": "e5f02017-a0c7-449f-9659-3a85c94e6e48"
      },
      "source": [
        "jovian.commit(project=project_name, environment=None)"
      ],
      "execution_count": null,
      "outputs": [
        {
          "output_type": "stream",
          "text": [
            "[jovian] Detected Colab notebook...\u001b[0m\n",
            "[jovian] Uploading colab notebook to Jovian...\u001b[0m\n",
            "[jovian] Attaching records (metrics, hyperparameters, dataset etc.)\u001b[0m\n",
            "[jovian] Committed successfully! https://jovian.ai/saikrithik/02-insurance-linear-regression\u001b[0m\n"
          ],
          "name": "stdout"
        },
        {
          "output_type": "execute_result",
          "data": {
            "application/vnd.google.colaboratory.intrinsic+json": {
              "type": "string"
            },
            "text/plain": [
              "'https://jovian.ai/saikrithik/02-insurance-linear-regression'"
            ]
          },
          "metadata": {
            "tags": []
          },
          "execution_count": 46
        }
      ]
    },
    {
      "cell_type": "markdown",
      "metadata": {
        "id": "-8R0qfomMdMV"
      },
      "source": [
        "## Step 3: Create a Linear Regression Model\n",
        "\n",
        "Our model itself is a fairly straightforward linear regression (we'll build more complex models in the next assignment). \n"
      ]
    },
    {
      "cell_type": "code",
      "metadata": {
        "colab": {
          "base_uri": "https://localhost:8080/"
        },
        "id": "xLIgo5u5MdMV",
        "outputId": "88681283-a13f-4610-b7bd-c126516c43c4"
      },
      "source": [
        "input_size = len(input_cols)\n",
        "output_size = len(output_cols)\n",
        "input_size, output_size"
      ],
      "execution_count": null,
      "outputs": [
        {
          "output_type": "execute_result",
          "data": {
            "text/plain": [
              "(6, 1)"
            ]
          },
          "metadata": {
            "tags": []
          },
          "execution_count": 47
        }
      ]
    },
    {
      "cell_type": "markdown",
      "metadata": {
        "id": "lH7-1AJmMdMW"
      },
      "source": [
        "**Q: Complete the class definition below by filling out the constructor (`__init__`), `forward`, `training_step` and `validation_step` methods.**\n",
        "\n",
        "Hint: Think carefully about picking a good loss fuction (it's not cross entropy). Maybe try 2-3 of them and see which one works best. See https://pytorch.org/docs/stable/nn.functional.html#loss-functions"
      ]
    },
    {
      "cell_type": "code",
      "metadata": {
        "id": "Rb5eXIYlMdMW"
      },
      "source": [
        "class InsuranceModel(nn.Module):\n",
        "    def __init__(self):\n",
        "        super().__init__()\n",
        "        self.linear = nn.Linear(input_size, output_size)   # fill this (hint: use input_size & output_size defined above)\n",
        "        \n",
        "    def forward(self, xb):\n",
        "        out = self.linear(xb)                         # fill this\n",
        "        return out\n",
        "    \n",
        "    def training_step(self, batch):\n",
        "        inputs, targets = batch \n",
        "        # Generate predictions\n",
        "        out = self(inputs)          \n",
        "        # Calcuate loss\n",
        "        loss = F.l1_loss(out, targets)                  # fill this\n",
        "        return loss\n",
        "    \n",
        "    def validation_step(self, batch):\n",
        "        inputs, targets = batch\n",
        "        # Generate predictions\n",
        "        out = self(inputs)\n",
        "        # Calculate loss\n",
        "        loss = F.l1_loss(out, targets)                           # fill this    \n",
        "        return {'val_loss': loss.detach()}\n",
        "        \n",
        "    def validation_epoch_end(self, outputs):\n",
        "        batch_losses = [x['val_loss'] for x in outputs]\n",
        "        epoch_loss = torch.stack(batch_losses).mean()   # Combine losses\n",
        "        return {'val_loss': epoch_loss.item()}\n",
        "    \n",
        "    def epoch_end(self, epoch, result, num_epochs):\n",
        "        # Print result every 20th epoch\n",
        "        if (epoch+1) % 100 == 0 or epoch == num_epochs-1:\n",
        "            print(\"Epoch [{}], val_loss: {:.4f}\".format(epoch+1, result['val_loss']))"
      ],
      "execution_count": null,
      "outputs": []
    },
    {
      "cell_type": "markdown",
      "metadata": {
        "id": "hJTBIpvJMdMW"
      },
      "source": [
        "Let us create a model using the `InsuranceModel` class. You may need to come back later and re-run the next cell to reinitialize the model, in case the loss becomes `nan` or `infinity`."
      ]
    },
    {
      "cell_type": "code",
      "metadata": {
        "id": "ce0HmuzuMdMW"
      },
      "source": [
        "model = InsuranceModel()"
      ],
      "execution_count": null,
      "outputs": []
    },
    {
      "cell_type": "markdown",
      "metadata": {
        "id": "SFXTRlwJMdMW"
      },
      "source": [
        "Let's check out the weights and biases of the model using `model.parameters`."
      ]
    },
    {
      "cell_type": "code",
      "metadata": {
        "colab": {
          "base_uri": "https://localhost:8080/"
        },
        "id": "4E168ircMdMW",
        "outputId": "c6ed0d15-1de9-497f-b222-7b1eeeade484"
      },
      "source": [
        "list(model.parameters())"
      ],
      "execution_count": null,
      "outputs": [
        {
          "output_type": "execute_result",
          "data": {
            "text/plain": [
              "[Parameter containing:\n",
              " tensor([[-0.1440,  0.1155,  0.1893, -0.2650, -0.0263,  0.2757]],\n",
              "        requires_grad=True), Parameter containing:\n",
              " tensor([-0.1439], requires_grad=True)]"
            ]
          },
          "metadata": {
            "tags": []
          },
          "execution_count": 50
        }
      ]
    },
    {
      "cell_type": "markdown",
      "metadata": {
        "id": "Gyx0F0DjMdMW"
      },
      "source": [
        "One final commit before we train the model."
      ]
    },
    {
      "cell_type": "code",
      "metadata": {
        "colab": {
          "base_uri": "https://localhost:8080/",
          "height": 103
        },
        "id": "Z7cA9npRMdMW",
        "outputId": "f5e72376-cd07-43c5-9b60-a994a03571a6"
      },
      "source": [
        "jovian.commit(project=project_name, environment=None)"
      ],
      "execution_count": null,
      "outputs": [
        {
          "output_type": "stream",
          "text": [
            "[jovian] Detected Colab notebook...\u001b[0m\n",
            "[jovian] Uploading colab notebook to Jovian...\u001b[0m\n",
            "[jovian] Attaching records (metrics, hyperparameters, dataset etc.)\u001b[0m\n",
            "[jovian] Committed successfully! https://jovian.ai/saikrithik/02-insurance-linear-regression\u001b[0m\n"
          ],
          "name": "stdout"
        },
        {
          "output_type": "execute_result",
          "data": {
            "application/vnd.google.colaboratory.intrinsic+json": {
              "type": "string"
            },
            "text/plain": [
              "'https://jovian.ai/saikrithik/02-insurance-linear-regression'"
            ]
          },
          "metadata": {
            "tags": []
          },
          "execution_count": 51
        }
      ]
    },
    {
      "cell_type": "markdown",
      "metadata": {
        "id": "xMBxDglVMdMW"
      },
      "source": [
        "## Step 4: Train the model to fit the data\n",
        "\n",
        "To train our model, we'll use the same `fit` function explained in the lecture. That's the benefit of defining a generic training loop - you can use it for any problem."
      ]
    },
    {
      "cell_type": "code",
      "metadata": {
        "id": "PLHnAimDMdMW"
      },
      "source": [
        "def evaluate(model, val_loader):\n",
        "    outputs = [model.validation_step(batch) for batch in val_loader]\n",
        "    return model.validation_epoch_end(outputs)\n",
        "\n",
        "def fit(epochs, lr, model, train_loader, val_loader, opt_func=torch.optim.SGD):\n",
        "    history = []\n",
        "    optimizer = opt_func(model.parameters(), lr)\n",
        "    for epoch in range(epochs):\n",
        "        # Training Phase \n",
        "        for batch in train_loader:\n",
        "            loss = model.training_step(batch)\n",
        "            loss.backward()\n",
        "            optimizer.step()\n",
        "            optimizer.zero_grad()\n",
        "        # Validation phase\n",
        "        result = evaluate(model, val_loader)\n",
        "        model.epoch_end(epoch, result, epochs)\n",
        "        history.append(result)\n",
        "    return history"
      ],
      "execution_count": null,
      "outputs": []
    },
    {
      "cell_type": "markdown",
      "metadata": {
        "id": "oFsSmhfcMdMX"
      },
      "source": [
        "**Q: Use the `evaluate` function to calculate the loss on the validation set before training.**"
      ]
    },
    {
      "cell_type": "code",
      "metadata": {
        "colab": {
          "base_uri": "https://localhost:8080/"
        },
        "id": "JJr895-NMdMX",
        "outputId": "de5f6ede-0386-424f-9ffc-9f9144a7b3fc"
      },
      "source": [
        "result = evaluate(model, val_loader) # Use the the evaluate function\n",
        "print(result)"
      ],
      "execution_count": null,
      "outputs": [
        {
          "output_type": "stream",
          "text": [
            "{'val_loss': 13860.390625}\n"
          ],
          "name": "stdout"
        }
      ]
    },
    {
      "cell_type": "markdown",
      "metadata": {
        "id": "3EKuH55-MdMX"
      },
      "source": [
        "\n",
        "We are now ready to train the model. You may need to run the training loop many times, for different number of epochs and with different learning rates, to get a good result. Also, if your loss becomes too large (or `nan`), you may have to re-initialize the model by running the cell `model = InsuranceModel()`. Experiment with this for a while, and try to get to as low a loss as possible."
      ]
    },
    {
      "cell_type": "markdown",
      "metadata": {
        "id": "YZY_fTr2MdMX"
      },
      "source": [
        "**Q: Train the model 4-5 times with different learning rates & for different number of epochs.**\n",
        "\n",
        "Hint: Vary learning rates by orders of 10 (e.g. `1e-2`, `1e-3`, `1e-4`, `1e-5`, `1e-6`) to figure out what works."
      ]
    },
    {
      "cell_type": "code",
      "metadata": {
        "colab": {
          "base_uri": "https://localhost:8080/"
        },
        "id": "YIOekrBcMdMX",
        "outputId": "9b398055-9911-466a-b1df-9eb3c301b98b"
      },
      "source": [
        "epochs = 1000\n",
        "lr = 1e-2\n",
        "history1 = fit(epochs, lr, model, train_loader, val_loader)"
      ],
      "execution_count": null,
      "outputs": [
        {
          "output_type": "stream",
          "text": [
            "Epoch [100], val_loss: 7607.6846\n",
            "Epoch [200], val_loss: 7401.6377\n",
            "Epoch [300], val_loss: 7256.8623\n",
            "Epoch [400], val_loss: 7191.7568\n",
            "Epoch [500], val_loss: 7172.4790\n",
            "Epoch [600], val_loss: 7168.0103\n",
            "Epoch [700], val_loss: 7165.1743\n",
            "Epoch [800], val_loss: 7163.0029\n",
            "Epoch [900], val_loss: 7160.9473\n",
            "Epoch [1000], val_loss: 7158.8906\n"
          ],
          "name": "stdout"
        }
      ]
    },
    {
      "cell_type": "code",
      "metadata": {
        "colab": {
          "base_uri": "https://localhost:8080/"
        },
        "id": "_--Q_RzGMdMX",
        "outputId": "2d606bda-ed1d-4efa-bb64-8bddf9866a8f"
      },
      "source": [
        "epochs = 1000\n",
        "lr = 1e-1\n",
        "history2 = fit(epochs, lr, model, train_loader, val_loader)"
      ],
      "execution_count": null,
      "outputs": [
        {
          "output_type": "stream",
          "text": [
            "Epoch [100], val_loss: 7138.7104\n",
            "Epoch [200], val_loss: 7122.1099\n",
            "Epoch [300], val_loss: 7107.2549\n",
            "Epoch [400], val_loss: 7092.9707\n",
            "Epoch [500], val_loss: 7081.0449\n",
            "Epoch [600], val_loss: 7069.0752\n",
            "Epoch [700], val_loss: 7057.9072\n",
            "Epoch [800], val_loss: 7047.7500\n",
            "Epoch [900], val_loss: 7039.0083\n",
            "Epoch [1000], val_loss: 7031.1240\n"
          ],
          "name": "stdout"
        }
      ]
    },
    {
      "cell_type": "code",
      "metadata": {
        "colab": {
          "base_uri": "https://localhost:8080/"
        },
        "id": "kYvUOZ1hMdMX",
        "outputId": "676be869-29cd-49d1-9977-0843b84b464a"
      },
      "source": [
        "epochs = 300\n",
        "lr = 1\n",
        "history3 = fit(epochs, lr, model, train_loader, val_loader)"
      ],
      "execution_count": null,
      "outputs": [
        {
          "output_type": "stream",
          "text": [
            "Epoch [100], val_loss: 6970.5083\n",
            "Epoch [200], val_loss: 6885.9883\n",
            "Epoch [300], val_loss: 6827.4463\n"
          ],
          "name": "stdout"
        }
      ]
    },
    {
      "cell_type": "code",
      "metadata": {
        "colab": {
          "base_uri": "https://localhost:8080/"
        },
        "id": "5KGKh6cmMdMX",
        "outputId": "0dc94875-b57a-40f9-93f8-41ec18ee30dc"
      },
      "source": [
        "epochs = 400\n",
        "lr = 2\n",
        "history4 = fit(epochs, lr, model, train_loader, val_loader)"
      ],
      "execution_count": null,
      "outputs": [
        {
          "output_type": "stream",
          "text": [
            "Epoch [100], val_loss: 7872.0791\n",
            "Epoch [200], val_loss: 7997.9976\n",
            "Epoch [300], val_loss: 6628.4219\n",
            "Epoch [400], val_loss: 6366.7720\n"
          ],
          "name": "stdout"
        }
      ]
    },
    {
      "cell_type": "code",
      "metadata": {
        "colab": {
          "base_uri": "https://localhost:8080/"
        },
        "id": "ONOGEJAFMdMY",
        "outputId": "0c065727-c024-4821-cdce-200a783d1e95"
      },
      "source": [
        "epochs = 1000\n",
        "lr = 1\n",
        "history5 = fit(epochs, lr, model, train_loader, val_loader)"
      ],
      "execution_count": null,
      "outputs": [
        {
          "output_type": "stream",
          "text": [
            "Epoch [100], val_loss: 4062.6201\n",
            "Epoch [200], val_loss: 4054.2368\n",
            "Epoch [300], val_loss: 4196.7944\n",
            "Epoch [400], val_loss: 4102.5112\n",
            "Epoch [500], val_loss: 4047.5059\n",
            "Epoch [600], val_loss: 4468.3999\n",
            "Epoch [700], val_loss: 4216.6455\n",
            "Epoch [800], val_loss: 4021.8945\n",
            "Epoch [900], val_loss: 4037.7280\n",
            "Epoch [1000], val_loss: 4020.6348\n"
          ],
          "name": "stdout"
        }
      ]
    },
    {
      "cell_type": "markdown",
      "metadata": {
        "id": "gnk60SPNMdMY"
      },
      "source": [
        "**Q: What is the final validation loss of your model?**"
      ]
    },
    {
      "cell_type": "code",
      "metadata": {
        "id": "Ta9BeCURMdMY"
      },
      "source": [
        "val_loss = 4020.6348"
      ],
      "execution_count": null,
      "outputs": []
    },
    {
      "cell_type": "markdown",
      "metadata": {
        "id": "L03orZl3MdMY"
      },
      "source": [
        "Let's log the final validation loss to Jovian and commit the notebook"
      ]
    },
    {
      "cell_type": "code",
      "metadata": {
        "colab": {
          "base_uri": "https://localhost:8080/"
        },
        "id": "F6gaz01WMdMY",
        "outputId": "6acb5eda-d82c-4474-f66b-10d92a3e6626"
      },
      "source": [
        "jovian.log_metrics(val_loss=val_loss)"
      ],
      "execution_count": null,
      "outputs": [
        {
          "output_type": "stream",
          "text": [
            "[jovian] Metrics logged.\u001b[0m\n"
          ],
          "name": "stdout"
        }
      ]
    },
    {
      "cell_type": "code",
      "metadata": {
        "colab": {
          "base_uri": "https://localhost:8080/",
          "height": 103
        },
        "id": "lSn_zZ9UMdMZ",
        "outputId": "f345e782-f27f-471f-9099-dc75ca86ed4a"
      },
      "source": [
        "jovian.commit(project=project_name, environment=None)"
      ],
      "execution_count": null,
      "outputs": [
        {
          "output_type": "stream",
          "text": [
            "[jovian] Detected Colab notebook...\u001b[0m\n",
            "[jovian] Uploading colab notebook to Jovian...\u001b[0m\n",
            "[jovian] Attaching records (metrics, hyperparameters, dataset etc.)\u001b[0m\n",
            "[jovian] Committed successfully! https://jovian.ai/saikrithik/02-insurance-linear-regression\u001b[0m\n"
          ],
          "name": "stdout"
        },
        {
          "output_type": "execute_result",
          "data": {
            "application/vnd.google.colaboratory.intrinsic+json": {
              "type": "string"
            },
            "text/plain": [
              "'https://jovian.ai/saikrithik/02-insurance-linear-regression'"
            ]
          },
          "metadata": {
            "tags": []
          },
          "execution_count": 70
        }
      ]
    },
    {
      "cell_type": "markdown",
      "metadata": {
        "id": "aFu9h2BIMdMZ"
      },
      "source": [
        "Now scroll back up, re-initialize the model, and try different set of values for batch size, number of epochs, learning rate etc. Commit each experiment and use the \"Compare\" and \"View Diff\" options on Jovian to compare the different results."
      ]
    },
    {
      "cell_type": "markdown",
      "metadata": {
        "id": "LtYZpYVXMdMZ"
      },
      "source": [
        "## Step 5: Make predictions using the trained model\n",
        "\n",
        "**Q: Complete the following function definition to make predictions on a single input**"
      ]
    },
    {
      "cell_type": "code",
      "metadata": {
        "id": "VK_m8T3RMdMZ"
      },
      "source": [
        "def predict_single(input, target, model):\n",
        "    inputs = input.unsqueeze(0)\n",
        "    predictions = model(inputs)                # fill this\n",
        "    prediction = predictions[0].detach()\n",
        "    print(\"Input:\", input)\n",
        "    print(\"Target:\", target)\n",
        "    print(\"Prediction:\", prediction)"
      ],
      "execution_count": null,
      "outputs": []
    },
    {
      "cell_type": "code",
      "metadata": {
        "colab": {
          "base_uri": "https://localhost:8080/"
        },
        "id": "ubZUXX1kMdMZ",
        "outputId": "3b31b276-f2bb-4e43-b4d2-c443e26e4721"
      },
      "source": [
        "input, target = val_ds[0]\n",
        "predict_single(input, target, model)"
      ],
      "execution_count": null,
      "outputs": [
        {
          "output_type": "stream",
          "text": [
            "Input: tensor([31.0000,  1.0000, 32.4900,  5.0000,  0.0000,  0.0000])\n",
            "Target: tensor([7139.4307])\n",
            "Prediction: tensor([6991.6597])\n"
          ],
          "name": "stdout"
        }
      ]
    },
    {
      "cell_type": "code",
      "metadata": {
        "colab": {
          "base_uri": "https://localhost:8080/"
        },
        "id": "ehcmj8kHMdMZ",
        "outputId": "bbe0edde-a0f4-4f85-beb3-9ba54208be2e"
      },
      "source": [
        "input, target = val_ds[10]\n",
        "predict_single(input, target, model)"
      ],
      "execution_count": null,
      "outputs": [
        {
          "output_type": "stream",
          "text": [
            "Input: tensor([20.0000,  1.0000, 40.6125,  3.0000,  1.0000,  1.0000])\n",
            "Target: tensor([39338.6094])\n",
            "Prediction: tensor([19664.3086])\n"
          ],
          "name": "stdout"
        }
      ]
    },
    {
      "cell_type": "code",
      "metadata": {
        "colab": {
          "base_uri": "https://localhost:8080/"
        },
        "id": "QZbu_-Z8MdMa",
        "outputId": "1ae4b423-881a-4183-b644-6960f3b8261f"
      },
      "source": [
        "input, target = val_ds[23]\n",
        "predict_single(input, target, model)"
      ],
      "execution_count": null,
      "outputs": [
        {
          "output_type": "stream",
          "text": [
            "Input: tensor([39.0000,  1.0000, 27.9414,  2.0000,  0.0000,  1.0000])\n",
            "Target: tensor([7045.7017])\n",
            "Prediction: tensor([7384.5815])\n"
          ],
          "name": "stdout"
        }
      ]
    },
    {
      "cell_type": "markdown",
      "metadata": {
        "id": "G2xUjMNhMdMa"
      },
      "source": [
        "Are you happy with your model's predictions? Try to improve them further."
      ]
    },
    {
      "cell_type": "markdown",
      "metadata": {
        "id": "t3vUE7QyMdMa"
      },
      "source": [
        "## (Optional) Step 6: Try another dataset & blog about it\n",
        "\n",
        "While this last step is optional for the submission of your assignment, we highly recommend that you do it. Try to clean up & replicate this notebook (or [this one](https://jovian.ml/aakashns/housing-linear-minimal), or [this one](https://jovian.ml/aakashns/mnist-logistic-minimal) ) for a different linear regression or logistic regression problem. This will help solidify your understanding, and give you a chance to differentiate the generic patters in machine learning from problem-specific details.\n",
        "\n",
        "Here are some sources to find good datasets:\n",
        "\n",
        "- https://lionbridge.ai/datasets/10-open-datasets-for-linear-regression/\n",
        "- https://www.kaggle.com/rtatman/datasets-for-regression-analysis\n",
        "- https://archive.ics.uci.edu/ml/datasets.php?format=&task=reg&att=&area=&numAtt=&numIns=&type=&sort=nameUp&view=table\n",
        "- https://people.sc.fsu.edu/~jburkardt/datasets/regression/regression.html\n",
        "- https://archive.ics.uci.edu/ml/datasets/wine+quality\n",
        "- https://pytorch.org/docs/stable/torchvision/datasets.html\n",
        "\n",
        "We also recommend that you write a blog about your approach to the problem. Here is a suggested structure for your post (feel free to experiment with it):\n",
        "\n",
        "- Interesting title & subtitle\n",
        "- Overview of what the blog covers (which dataset, linear regression or logistic regression, intro to PyTorch)\n",
        "- Downloading & exploring the data\n",
        "- Preparing the data for training\n",
        "- Creating a model using PyTorch\n",
        "- Training the model to fit the data\n",
        "- Your thoughts on how to experiment with different hyperparmeters to reduce loss\n",
        "- Making predictions using the model\n",
        "\n",
        "As with the previous assignment, you can [embed Juptyer notebook cells & outputs from Jovian](https://medium.com/jovianml/share-and-embed-jupyter-notebooks-online-with-jovian-ml-df709a03064e) into your blog. \n",
        "\n",
        "Don't forget to share your work on the forum: https://jovian.ml/forum/t/share-your-work-here-assignment-2/4931"
      ]
    },
    {
      "cell_type": "code",
      "metadata": {
        "id": "VOckfrN2MdMa",
        "outputId": "66e1262b-67de-4f68-c556-7879b8c7fef6"
      },
      "source": [
        "jovian.commit(project=project_name, environment=None)\n",
        "jovian.commit(project=project_name, environment=None) # try again, kaggle fails sometimes"
      ],
      "execution_count": null,
      "outputs": [
        {
          "output_type": "display_data",
          "data": {
            "application/javascript": [
              "window.require && require([\"base/js/namespace\"],function(Jupyter){Jupyter.notebook.save_checkpoint()})"
            ],
            "text/plain": [
              "<IPython.core.display.Javascript object>"
            ]
          },
          "metadata": {
            "tags": []
          }
        },
        {
          "output_type": "stream",
          "text": [
            "[jovian] Attempting to save notebook..\u001b[0m\n",
            "[jovian] Detected Kaggle notebook...\u001b[0m\n",
            "[jovian] Uploading notebook to https://jovian.ml/saikrithik/02-insurance-linear-regression\u001b[0m\n"
          ],
          "name": "stdout"
        },
        {
          "output_type": "display_data",
          "data": {
            "application/javascript": [
              "\n",
              "    require([\"base/js/namespace\"],function(Jupyter) {\n",
              "        var nbJson = JSON.stringify(Jupyter.notebook.toJSON());\n",
              "\n",
              "        console.log(\"[jovian] Extracted notebook JSON:\");\n",
              "        console.log(nbJson);\n",
              "\n",
              "        function jvnLog (data) {\n",
              "          console.log(\"Result from jovian.commit:\");\n",
              "          if (data.content.text) {\n",
              "              var result = JSON.parse(data.content.text.trim());\n",
              "              var msg = result['msg'];\n",
              "              var err = result['err'];\n",
              "              if (msg) {\n",
              "                  element.text(\"Committed successfully: \" + msg)\n",
              "              } else {\n",
              "                  alert(\"Notebook commit failed. Error: \" + (err || \"Unknown\"))\n",
              "              }\n",
              "          }\n",
              "          \n",
              "        };\n",
              "        \n",
              "        var pythonCode = `\n",
              "from contextlib import redirect_stdout, redirect_stderr\n",
              "from io import StringIO\n",
              "import json\n",
              " \n",
              "with open(\"02-insurance-linear-regression.ipynb\", 'w') as f:\n",
              "    f.write(r\"\"\"${nbJson}\"\"\")\n",
              "\n",
              "jvn_update = StringIO()\n",
              "jvn_update_err = StringIO()\n",
              "with redirect_stdout(jvn_update), redirect_stderr(jvn_update_err):\n",
              "    from jovian import commit\n",
              "\n",
              "jvn_f_out = StringIO()\n",
              "jvn_f_err = StringIO()\n",
              "with redirect_stdout(jvn_f_out), redirect_stderr(jvn_f_err):\n",
              "    jvn_msg = jovian.commit(project=\"02-insurance-linear-regression\", filename=\"02-insurance-linear-regression.ipynb\", environment=None)\n",
              "\n",
              "print(json.dumps({'msg': jvn_msg, 'err': jvn_f_err.getvalue(), 'update': jvn_update.getvalue()}))\n",
              "        `;\n",
              "\n",
              "        console.log(\"Invoking jovian.commit\")\n",
              "        // console.log(pythonCode)\n",
              "\n",
              "        Jupyter.notebook.kernel.execute(pythonCode, { iopub: { output: jvnLog }});\n",
              "    });"
            ],
            "text/plain": [
              "<IPython.core.display.Javascript object>"
            ]
          },
          "metadata": {
            "tags": []
          }
        },
        {
          "output_type": "display_data",
          "data": {
            "application/javascript": [
              "window.require && require([\"base/js/namespace\"],function(Jupyter){Jupyter.notebook.save_checkpoint()})"
            ],
            "text/plain": [
              "<IPython.core.display.Javascript object>"
            ]
          },
          "metadata": {
            "tags": []
          }
        },
        {
          "output_type": "stream",
          "text": [
            "[jovian] Attempting to save notebook..\u001b[0m\n",
            "[jovian] Detected Kaggle notebook...\u001b[0m\n",
            "[jovian] Uploading notebook to https://jovian.ml/saikrithik/02-insurance-linear-regression\u001b[0m\n"
          ],
          "name": "stdout"
        },
        {
          "output_type": "display_data",
          "data": {
            "application/javascript": [
              "\n",
              "    require([\"base/js/namespace\"],function(Jupyter) {\n",
              "        var nbJson = JSON.stringify(Jupyter.notebook.toJSON());\n",
              "\n",
              "        console.log(\"[jovian] Extracted notebook JSON:\");\n",
              "        console.log(nbJson);\n",
              "\n",
              "        function jvnLog (data) {\n",
              "          console.log(\"Result from jovian.commit:\");\n",
              "          if (data.content.text) {\n",
              "              var result = JSON.parse(data.content.text.trim());\n",
              "              var msg = result['msg'];\n",
              "              var err = result['err'];\n",
              "              if (msg) {\n",
              "                  element.text(\"Committed successfully: \" + msg)\n",
              "              } else {\n",
              "                  alert(\"Notebook commit failed. Error: \" + (err || \"Unknown\"))\n",
              "              }\n",
              "          }\n",
              "          \n",
              "        };\n",
              "        \n",
              "        var pythonCode = `\n",
              "from contextlib import redirect_stdout, redirect_stderr\n",
              "from io import StringIO\n",
              "import json\n",
              " \n",
              "with open(\"02-insurance-linear-regression.ipynb\", 'w') as f:\n",
              "    f.write(r\"\"\"${nbJson}\"\"\")\n",
              "\n",
              "jvn_update = StringIO()\n",
              "jvn_update_err = StringIO()\n",
              "with redirect_stdout(jvn_update), redirect_stderr(jvn_update_err):\n",
              "    from jovian import commit\n",
              "\n",
              "jvn_f_out = StringIO()\n",
              "jvn_f_err = StringIO()\n",
              "with redirect_stdout(jvn_f_out), redirect_stderr(jvn_f_err):\n",
              "    jvn_msg = jovian.commit(project=\"02-insurance-linear-regression\", filename=\"02-insurance-linear-regression.ipynb\", environment=None)\n",
              "\n",
              "print(json.dumps({'msg': jvn_msg, 'err': jvn_f_err.getvalue(), 'update': jvn_update.getvalue()}))\n",
              "        `;\n",
              "\n",
              "        console.log(\"Invoking jovian.commit\")\n",
              "        // console.log(pythonCode)\n",
              "\n",
              "        Jupyter.notebook.kernel.execute(pythonCode, { iopub: { output: jvnLog }});\n",
              "    });"
            ],
            "text/plain": [
              "<IPython.core.display.Javascript object>"
            ]
          },
          "metadata": {
            "tags": []
          }
        }
      ]
    },
    {
      "cell_type": "code",
      "metadata": {
        "id": "wR0keolhMdMa"
      },
      "source": [
        ""
      ],
      "execution_count": null,
      "outputs": []
    }
  ]
}